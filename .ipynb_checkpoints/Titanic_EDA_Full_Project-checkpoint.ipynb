{
 "cells": [
  {
   "cell_type": "markdown",
   "id": "4e92178f",
   "metadata": {},
   "source": [
    "# 🧠 Titanic Survival Prediction Project\n",
    "This notebook includes full EDA, feature engineering, machine learning, and interpretation to build a predictive model for Titanic survival."
   ]
  },
  {
   "cell_type": "markdown",
   "id": "3c61df5e",
   "metadata": {},
   "source": [
    "## 📥 1. Load Libraries and Data"
   ]
  },
  {
   "cell_type": "code",
   "execution_count": null,
   "id": "ca0d4eb7",
   "metadata": {},
   "outputs": [],
   "source": [
    "import pandas as pd\n",
    "import numpy as np\n",
    "import matplotlib.pyplot as plt\n",
    "import seaborn as sns\n",
    "import warnings\n",
    "warnings.filterwarnings('ignore')\n",
    "\n",
    "sns.set(style='whitegrid')\n",
    "\n",
    "# Load Titanic dataset\n",
    "df = pd.read_csv('https://raw.githubusercontent.com/datasciencedojo/datasets/master/titanic.csv')\n",
    "df.head()"
   ]
  },
  {
   "cell_type": "markdown",
   "id": "08e35db9",
   "metadata": {},
   "source": [
    "## 📊 2. Exploratory Data Analysis (EDA)\n",
    "### a) Data Summary"
   ]
  },
  {
   "cell_type": "code",
   "execution_count": null,
   "id": "f1dff51d",
   "metadata": {},
   "outputs": [],
   "source": [
    "df.info()\n",
    "df.describe(include='all')\n",
    "df.isnull().sum()"
   ]
  }
 ],
 "metadata": {
  "kernelspec": {
   "display_name": "Python 3 (ipykernel)",
   "language": "python",
   "name": "python3"
  },
  "language_info": {
   "codemirror_mode": {
    "name": "ipython",
    "version": 3
   },
   "file_extension": ".py",
   "mimetype": "text/x-python",
   "name": "python",
   "nbconvert_exporter": "python",
   "pygments_lexer": "ipython3",
   "version": "3.11.4"
  }
 },
 "nbformat": 4,
 "nbformat_minor": 5
}
