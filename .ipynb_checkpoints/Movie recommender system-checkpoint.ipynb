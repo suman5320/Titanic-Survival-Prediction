{
 "cells": [
  {
   "cell_type": "code",
   "execution_count": 1,
   "id": "5082ce9a",
   "metadata": {},
   "outputs": [],
   "source": [
    "import numpy as np \n",
    "import pandas as pd"
   ]
  },
  {
   "cell_type": "code",
   "execution_count": 2,
   "id": "d7813449",
   "metadata": {},
   "outputs": [],
   "source": [
    " credits= pd.read_csv('tmdb_5000_credits.csv')\n",
    "movies = pd.read_csv('tmdb_5000_movies.csv')"
   ]
  },
  {
   "cell_type": "code",
   "execution_count": 3,
   "id": "ca84e224",
   "metadata": {},
   "outputs": [
    {
     "data": {
      "text/html": [
       "<div>\n",
       "<style scoped>\n",
       "    .dataframe tbody tr th:only-of-type {\n",
       "        vertical-align: middle;\n",
       "    }\n",
       "\n",
       "    .dataframe tbody tr th {\n",
       "        vertical-align: top;\n",
       "    }\n",
       "\n",
       "    .dataframe thead th {\n",
       "        text-align: right;\n",
       "    }\n",
       "</style>\n",
       "<table border=\"1\" class=\"dataframe\">\n",
       "  <thead>\n",
       "    <tr style=\"text-align: right;\">\n",
       "      <th></th>\n",
       "      <th>movie_id</th>\n",
       "      <th>title</th>\n",
       "      <th>cast</th>\n",
       "      <th>crew</th>\n",
       "    </tr>\n",
       "  </thead>\n",
       "  <tbody>\n",
       "    <tr>\n",
       "      <th>0</th>\n",
       "      <td>19995</td>\n",
       "      <td>Avatar</td>\n",
       "      <td>[{\"cast_id\": 242, \"character\": \"Jake Sully\", \"...</td>\n",
       "      <td>[{\"credit_id\": \"52fe48009251416c750aca23\", \"de...</td>\n",
       "    </tr>\n",
       "    <tr>\n",
       "      <th>1</th>\n",
       "      <td>285</td>\n",
       "      <td>Pirates of the Caribbean: At World's End</td>\n",
       "      <td>[{\"cast_id\": 4, \"character\": \"Captain Jack Spa...</td>\n",
       "      <td>[{\"credit_id\": \"52fe4232c3a36847f800b579\", \"de...</td>\n",
       "    </tr>\n",
       "  </tbody>\n",
       "</table>\n",
       "</div>"
      ],
      "text/plain": [
       "   movie_id                                     title  \\\n",
       "0     19995                                    Avatar   \n",
       "1       285  Pirates of the Caribbean: At World's End   \n",
       "\n",
       "                                                cast  \\\n",
       "0  [{\"cast_id\": 242, \"character\": \"Jake Sully\", \"...   \n",
       "1  [{\"cast_id\": 4, \"character\": \"Captain Jack Spa...   \n",
       "\n",
       "                                                crew  \n",
       "0  [{\"credit_id\": \"52fe48009251416c750aca23\", \"de...  \n",
       "1  [{\"credit_id\": \"52fe4232c3a36847f800b579\", \"de...  "
      ]
     },
     "execution_count": 3,
     "metadata": {},
     "output_type": "execute_result"
    }
   ],
   "source": [
    "credits.head(2)"
   ]
  },
  {
   "cell_type": "code",
   "execution_count": 4,
   "id": "535ead8c",
   "metadata": {},
   "outputs": [
    {
     "data": {
      "text/html": [
       "<div>\n",
       "<style scoped>\n",
       "    .dataframe tbody tr th:only-of-type {\n",
       "        vertical-align: middle;\n",
       "    }\n",
       "\n",
       "    .dataframe tbody tr th {\n",
       "        vertical-align: top;\n",
       "    }\n",
       "\n",
       "    .dataframe thead th {\n",
       "        text-align: right;\n",
       "    }\n",
       "</style>\n",
       "<table border=\"1\" class=\"dataframe\">\n",
       "  <thead>\n",
       "    <tr style=\"text-align: right;\">\n",
       "      <th></th>\n",
       "      <th>budget</th>\n",
       "      <th>genres</th>\n",
       "      <th>homepage</th>\n",
       "      <th>id</th>\n",
       "      <th>keywords</th>\n",
       "      <th>original_language</th>\n",
       "      <th>original_title</th>\n",
       "      <th>overview</th>\n",
       "      <th>popularity</th>\n",
       "      <th>production_companies</th>\n",
       "      <th>production_countries</th>\n",
       "      <th>release_date</th>\n",
       "      <th>revenue</th>\n",
       "      <th>runtime</th>\n",
       "      <th>spoken_languages</th>\n",
       "      <th>status</th>\n",
       "      <th>tagline</th>\n",
       "      <th>title</th>\n",
       "      <th>vote_average</th>\n",
       "      <th>vote_count</th>\n",
       "    </tr>\n",
       "  </thead>\n",
       "  <tbody>\n",
       "    <tr>\n",
       "      <th>0</th>\n",
       "      <td>237000000</td>\n",
       "      <td>[{\"id\": 28, \"name\": \"Action\"}, {\"id\": 12, \"nam...</td>\n",
       "      <td>http://www.avatarmovie.com/</td>\n",
       "      <td>19995</td>\n",
       "      <td>[{\"id\": 1463, \"name\": \"culture clash\"}, {\"id\":...</td>\n",
       "      <td>en</td>\n",
       "      <td>Avatar</td>\n",
       "      <td>In the 22nd century, a paraplegic Marine is di...</td>\n",
       "      <td>150.437577</td>\n",
       "      <td>[{\"name\": \"Ingenious Film Partners\", \"id\": 289...</td>\n",
       "      <td>[{\"iso_3166_1\": \"US\", \"name\": \"United States o...</td>\n",
       "      <td>2009-12-10</td>\n",
       "      <td>2787965087</td>\n",
       "      <td>162.0</td>\n",
       "      <td>[{\"iso_639_1\": \"en\", \"name\": \"English\"}, {\"iso...</td>\n",
       "      <td>Released</td>\n",
       "      <td>Enter the World of Pandora.</td>\n",
       "      <td>Avatar</td>\n",
       "      <td>7.2</td>\n",
       "      <td>11800</td>\n",
       "    </tr>\n",
       "    <tr>\n",
       "      <th>1</th>\n",
       "      <td>300000000</td>\n",
       "      <td>[{\"id\": 12, \"name\": \"Adventure\"}, {\"id\": 14, \"...</td>\n",
       "      <td>http://disney.go.com/disneypictures/pirates/</td>\n",
       "      <td>285</td>\n",
       "      <td>[{\"id\": 270, \"name\": \"ocean\"}, {\"id\": 726, \"na...</td>\n",
       "      <td>en</td>\n",
       "      <td>Pirates of the Caribbean: At World's End</td>\n",
       "      <td>Captain Barbossa, long believed to be dead, ha...</td>\n",
       "      <td>139.082615</td>\n",
       "      <td>[{\"name\": \"Walt Disney Pictures\", \"id\": 2}, {\"...</td>\n",
       "      <td>[{\"iso_3166_1\": \"US\", \"name\": \"United States o...</td>\n",
       "      <td>2007-05-19</td>\n",
       "      <td>961000000</td>\n",
       "      <td>169.0</td>\n",
       "      <td>[{\"iso_639_1\": \"en\", \"name\": \"English\"}]</td>\n",
       "      <td>Released</td>\n",
       "      <td>At the end of the world, the adventure begins.</td>\n",
       "      <td>Pirates of the Caribbean: At World's End</td>\n",
       "      <td>6.9</td>\n",
       "      <td>4500</td>\n",
       "    </tr>\n",
       "  </tbody>\n",
       "</table>\n",
       "</div>"
      ],
      "text/plain": [
       "      budget                                             genres  \\\n",
       "0  237000000  [{\"id\": 28, \"name\": \"Action\"}, {\"id\": 12, \"nam...   \n",
       "1  300000000  [{\"id\": 12, \"name\": \"Adventure\"}, {\"id\": 14, \"...   \n",
       "\n",
       "                                       homepage     id  \\\n",
       "0                   http://www.avatarmovie.com/  19995   \n",
       "1  http://disney.go.com/disneypictures/pirates/    285   \n",
       "\n",
       "                                            keywords original_language  \\\n",
       "0  [{\"id\": 1463, \"name\": \"culture clash\"}, {\"id\":...                en   \n",
       "1  [{\"id\": 270, \"name\": \"ocean\"}, {\"id\": 726, \"na...                en   \n",
       "\n",
       "                             original_title  \\\n",
       "0                                    Avatar   \n",
       "1  Pirates of the Caribbean: At World's End   \n",
       "\n",
       "                                            overview  popularity  \\\n",
       "0  In the 22nd century, a paraplegic Marine is di...  150.437577   \n",
       "1  Captain Barbossa, long believed to be dead, ha...  139.082615   \n",
       "\n",
       "                                production_companies  \\\n",
       "0  [{\"name\": \"Ingenious Film Partners\", \"id\": 289...   \n",
       "1  [{\"name\": \"Walt Disney Pictures\", \"id\": 2}, {\"...   \n",
       "\n",
       "                                production_countries release_date     revenue  \\\n",
       "0  [{\"iso_3166_1\": \"US\", \"name\": \"United States o...   2009-12-10  2787965087   \n",
       "1  [{\"iso_3166_1\": \"US\", \"name\": \"United States o...   2007-05-19   961000000   \n",
       "\n",
       "   runtime                                   spoken_languages    status  \\\n",
       "0    162.0  [{\"iso_639_1\": \"en\", \"name\": \"English\"}, {\"iso...  Released   \n",
       "1    169.0           [{\"iso_639_1\": \"en\", \"name\": \"English\"}]  Released   \n",
       "\n",
       "                                          tagline  \\\n",
       "0                     Enter the World of Pandora.   \n",
       "1  At the end of the world, the adventure begins.   \n",
       "\n",
       "                                      title  vote_average  vote_count  \n",
       "0                                    Avatar           7.2       11800  \n",
       "1  Pirates of the Caribbean: At World's End           6.9        4500  "
      ]
     },
     "execution_count": 4,
     "metadata": {},
     "output_type": "execute_result"
    }
   ],
   "source": [
    "movies.head(2)"
   ]
  },
  {
   "cell_type": "code",
   "execution_count": 5,
   "id": "083e2d58",
   "metadata": {},
   "outputs": [
    {
     "data": {
      "text/html": [
       "<div>\n",
       "<style scoped>\n",
       "    .dataframe tbody tr th:only-of-type {\n",
       "        vertical-align: middle;\n",
       "    }\n",
       "\n",
       "    .dataframe tbody tr th {\n",
       "        vertical-align: top;\n",
       "    }\n",
       "\n",
       "    .dataframe thead th {\n",
       "        text-align: right;\n",
       "    }\n",
       "</style>\n",
       "<table border=\"1\" class=\"dataframe\">\n",
       "  <thead>\n",
       "    <tr style=\"text-align: right;\">\n",
       "      <th></th>\n",
       "      <th>budget</th>\n",
       "      <th>genres</th>\n",
       "      <th>homepage</th>\n",
       "      <th>id</th>\n",
       "      <th>keywords</th>\n",
       "      <th>original_language</th>\n",
       "      <th>original_title</th>\n",
       "      <th>overview</th>\n",
       "      <th>popularity</th>\n",
       "      <th>production_companies</th>\n",
       "      <th>...</th>\n",
       "      <th>runtime</th>\n",
       "      <th>spoken_languages</th>\n",
       "      <th>status</th>\n",
       "      <th>tagline</th>\n",
       "      <th>title</th>\n",
       "      <th>vote_average</th>\n",
       "      <th>vote_count</th>\n",
       "      <th>movie_id</th>\n",
       "      <th>cast</th>\n",
       "      <th>crew</th>\n",
       "    </tr>\n",
       "  </thead>\n",
       "  <tbody>\n",
       "    <tr>\n",
       "      <th>0</th>\n",
       "      <td>237000000</td>\n",
       "      <td>[{\"id\": 28, \"name\": \"Action\"}, {\"id\": 12, \"nam...</td>\n",
       "      <td>http://www.avatarmovie.com/</td>\n",
       "      <td>19995</td>\n",
       "      <td>[{\"id\": 1463, \"name\": \"culture clash\"}, {\"id\":...</td>\n",
       "      <td>en</td>\n",
       "      <td>Avatar</td>\n",
       "      <td>In the 22nd century, a paraplegic Marine is di...</td>\n",
       "      <td>150.437577</td>\n",
       "      <td>[{\"name\": \"Ingenious Film Partners\", \"id\": 289...</td>\n",
       "      <td>...</td>\n",
       "      <td>162.0</td>\n",
       "      <td>[{\"iso_639_1\": \"en\", \"name\": \"English\"}, {\"iso...</td>\n",
       "      <td>Released</td>\n",
       "      <td>Enter the World of Pandora.</td>\n",
       "      <td>Avatar</td>\n",
       "      <td>7.2</td>\n",
       "      <td>11800</td>\n",
       "      <td>19995</td>\n",
       "      <td>[{\"cast_id\": 242, \"character\": \"Jake Sully\", \"...</td>\n",
       "      <td>[{\"credit_id\": \"52fe48009251416c750aca23\", \"de...</td>\n",
       "    </tr>\n",
       "  </tbody>\n",
       "</table>\n",
       "<p>1 rows × 23 columns</p>\n",
       "</div>"
      ],
      "text/plain": [
       "      budget                                             genres  \\\n",
       "0  237000000  [{\"id\": 28, \"name\": \"Action\"}, {\"id\": 12, \"nam...   \n",
       "\n",
       "                      homepage     id  \\\n",
       "0  http://www.avatarmovie.com/  19995   \n",
       "\n",
       "                                            keywords original_language  \\\n",
       "0  [{\"id\": 1463, \"name\": \"culture clash\"}, {\"id\":...                en   \n",
       "\n",
       "  original_title                                           overview  \\\n",
       "0         Avatar  In the 22nd century, a paraplegic Marine is di...   \n",
       "\n",
       "   popularity                               production_companies  ... runtime  \\\n",
       "0  150.437577  [{\"name\": \"Ingenious Film Partners\", \"id\": 289...  ...   162.0   \n",
       "\n",
       "                                    spoken_languages    status  \\\n",
       "0  [{\"iso_639_1\": \"en\", \"name\": \"English\"}, {\"iso...  Released   \n",
       "\n",
       "                       tagline   title vote_average vote_count movie_id  \\\n",
       "0  Enter the World of Pandora.  Avatar          7.2      11800    19995   \n",
       "\n",
       "                                                cast  \\\n",
       "0  [{\"cast_id\": 242, \"character\": \"Jake Sully\", \"...   \n",
       "\n",
       "                                                crew  \n",
       "0  [{\"credit_id\": \"52fe48009251416c750aca23\", \"de...  \n",
       "\n",
       "[1 rows x 23 columns]"
      ]
     },
     "execution_count": 5,
     "metadata": {},
     "output_type": "execute_result"
    }
   ],
   "source": [
    "movies = movies.merge(credits,on='title')\n",
    "movies.head(1)"
   ]
  },
  {
   "cell_type": "markdown",
   "id": "8ab9cc5f",
   "metadata": {},
   "source": [
    "#genre,id,keywords,overview,popularity,title,vote_average,vote_count,cast,crew\n"
   ]
  },
  {
   "cell_type": "code",
   "execution_count": 6,
   "id": "f2986c37",
   "metadata": {},
   "outputs": [],
   "source": [
    "movies = movies[['movie_id','title','overview','genres','keywords','cast','crew']]"
   ]
  },
  {
   "cell_type": "code",
   "execution_count": 7,
   "id": "c2b5c330",
   "metadata": {},
   "outputs": [
    {
     "data": {
      "text/html": [
       "<div>\n",
       "<style scoped>\n",
       "    .dataframe tbody tr th:only-of-type {\n",
       "        vertical-align: middle;\n",
       "    }\n",
       "\n",
       "    .dataframe tbody tr th {\n",
       "        vertical-align: top;\n",
       "    }\n",
       "\n",
       "    .dataframe thead th {\n",
       "        text-align: right;\n",
       "    }\n",
       "</style>\n",
       "<table border=\"1\" class=\"dataframe\">\n",
       "  <thead>\n",
       "    <tr style=\"text-align: right;\">\n",
       "      <th></th>\n",
       "      <th>movie_id</th>\n",
       "      <th>title</th>\n",
       "      <th>overview</th>\n",
       "      <th>genres</th>\n",
       "      <th>keywords</th>\n",
       "      <th>cast</th>\n",
       "      <th>crew</th>\n",
       "    </tr>\n",
       "  </thead>\n",
       "  <tbody>\n",
       "    <tr>\n",
       "      <th>0</th>\n",
       "      <td>19995</td>\n",
       "      <td>Avatar</td>\n",
       "      <td>In the 22nd century, a paraplegic Marine is di...</td>\n",
       "      <td>[{\"id\": 28, \"name\": \"Action\"}, {\"id\": 12, \"nam...</td>\n",
       "      <td>[{\"id\": 1463, \"name\": \"culture clash\"}, {\"id\":...</td>\n",
       "      <td>[{\"cast_id\": 242, \"character\": \"Jake Sully\", \"...</td>\n",
       "      <td>[{\"credit_id\": \"52fe48009251416c750aca23\", \"de...</td>\n",
       "    </tr>\n",
       "    <tr>\n",
       "      <th>1</th>\n",
       "      <td>285</td>\n",
       "      <td>Pirates of the Caribbean: At World's End</td>\n",
       "      <td>Captain Barbossa, long believed to be dead, ha...</td>\n",
       "      <td>[{\"id\": 12, \"name\": \"Adventure\"}, {\"id\": 14, \"...</td>\n",
       "      <td>[{\"id\": 270, \"name\": \"ocean\"}, {\"id\": 726, \"na...</td>\n",
       "      <td>[{\"cast_id\": 4, \"character\": \"Captain Jack Spa...</td>\n",
       "      <td>[{\"credit_id\": \"52fe4232c3a36847f800b579\", \"de...</td>\n",
       "    </tr>\n",
       "    <tr>\n",
       "      <th>2</th>\n",
       "      <td>206647</td>\n",
       "      <td>Spectre</td>\n",
       "      <td>A cryptic message from Bond’s past sends him o...</td>\n",
       "      <td>[{\"id\": 28, \"name\": \"Action\"}, {\"id\": 12, \"nam...</td>\n",
       "      <td>[{\"id\": 470, \"name\": \"spy\"}, {\"id\": 818, \"name...</td>\n",
       "      <td>[{\"cast_id\": 1, \"character\": \"James Bond\", \"cr...</td>\n",
       "      <td>[{\"credit_id\": \"54805967c3a36829b5002c41\", \"de...</td>\n",
       "    </tr>\n",
       "    <tr>\n",
       "      <th>3</th>\n",
       "      <td>49026</td>\n",
       "      <td>The Dark Knight Rises</td>\n",
       "      <td>Following the death of District Attorney Harve...</td>\n",
       "      <td>[{\"id\": 28, \"name\": \"Action\"}, {\"id\": 80, \"nam...</td>\n",
       "      <td>[{\"id\": 849, \"name\": \"dc comics\"}, {\"id\": 853,...</td>\n",
       "      <td>[{\"cast_id\": 2, \"character\": \"Bruce Wayne / Ba...</td>\n",
       "      <td>[{\"credit_id\": \"52fe4781c3a36847f81398c3\", \"de...</td>\n",
       "    </tr>\n",
       "    <tr>\n",
       "      <th>4</th>\n",
       "      <td>49529</td>\n",
       "      <td>John Carter</td>\n",
       "      <td>John Carter is a war-weary, former military ca...</td>\n",
       "      <td>[{\"id\": 28, \"name\": \"Action\"}, {\"id\": 12, \"nam...</td>\n",
       "      <td>[{\"id\": 818, \"name\": \"based on novel\"}, {\"id\":...</td>\n",
       "      <td>[{\"cast_id\": 5, \"character\": \"John Carter\", \"c...</td>\n",
       "      <td>[{\"credit_id\": \"52fe479ac3a36847f813eaa3\", \"de...</td>\n",
       "    </tr>\n",
       "  </tbody>\n",
       "</table>\n",
       "</div>"
      ],
      "text/plain": [
       "   movie_id                                     title  \\\n",
       "0     19995                                    Avatar   \n",
       "1       285  Pirates of the Caribbean: At World's End   \n",
       "2    206647                                   Spectre   \n",
       "3     49026                     The Dark Knight Rises   \n",
       "4     49529                               John Carter   \n",
       "\n",
       "                                            overview  \\\n",
       "0  In the 22nd century, a paraplegic Marine is di...   \n",
       "1  Captain Barbossa, long believed to be dead, ha...   \n",
       "2  A cryptic message from Bond’s past sends him o...   \n",
       "3  Following the death of District Attorney Harve...   \n",
       "4  John Carter is a war-weary, former military ca...   \n",
       "\n",
       "                                              genres  \\\n",
       "0  [{\"id\": 28, \"name\": \"Action\"}, {\"id\": 12, \"nam...   \n",
       "1  [{\"id\": 12, \"name\": \"Adventure\"}, {\"id\": 14, \"...   \n",
       "2  [{\"id\": 28, \"name\": \"Action\"}, {\"id\": 12, \"nam...   \n",
       "3  [{\"id\": 28, \"name\": \"Action\"}, {\"id\": 80, \"nam...   \n",
       "4  [{\"id\": 28, \"name\": \"Action\"}, {\"id\": 12, \"nam...   \n",
       "\n",
       "                                            keywords  \\\n",
       "0  [{\"id\": 1463, \"name\": \"culture clash\"}, {\"id\":...   \n",
       "1  [{\"id\": 270, \"name\": \"ocean\"}, {\"id\": 726, \"na...   \n",
       "2  [{\"id\": 470, \"name\": \"spy\"}, {\"id\": 818, \"name...   \n",
       "3  [{\"id\": 849, \"name\": \"dc comics\"}, {\"id\": 853,...   \n",
       "4  [{\"id\": 818, \"name\": \"based on novel\"}, {\"id\":...   \n",
       "\n",
       "                                                cast  \\\n",
       "0  [{\"cast_id\": 242, \"character\": \"Jake Sully\", \"...   \n",
       "1  [{\"cast_id\": 4, \"character\": \"Captain Jack Spa...   \n",
       "2  [{\"cast_id\": 1, \"character\": \"James Bond\", \"cr...   \n",
       "3  [{\"cast_id\": 2, \"character\": \"Bruce Wayne / Ba...   \n",
       "4  [{\"cast_id\": 5, \"character\": \"John Carter\", \"c...   \n",
       "\n",
       "                                                crew  \n",
       "0  [{\"credit_id\": \"52fe48009251416c750aca23\", \"de...  \n",
       "1  [{\"credit_id\": \"52fe4232c3a36847f800b579\", \"de...  \n",
       "2  [{\"credit_id\": \"54805967c3a36829b5002c41\", \"de...  \n",
       "3  [{\"credit_id\": \"52fe4781c3a36847f81398c3\", \"de...  \n",
       "4  [{\"credit_id\": \"52fe479ac3a36847f813eaa3\", \"de...  "
      ]
     },
     "execution_count": 7,
     "metadata": {},
     "output_type": "execute_result"
    }
   ],
   "source": [
    "movies.head()"
   ]
  },
  {
   "cell_type": "code",
   "execution_count": 8,
   "id": "e4458461",
   "metadata": {},
   "outputs": [
    {
     "data": {
      "text/plain": [
       "movie_id    0\n",
       "title       0\n",
       "overview    3\n",
       "genres      0\n",
       "keywords    0\n",
       "cast        0\n",
       "crew        0\n",
       "dtype: int64"
      ]
     },
     "execution_count": 8,
     "metadata": {},
     "output_type": "execute_result"
    }
   ],
   "source": [
    "movies.isna().sum()"
   ]
  },
  {
   "cell_type": "code",
   "execution_count": 9,
   "id": "af04e39d",
   "metadata": {},
   "outputs": [
    {
     "data": {
      "text/plain": [
       "4809"
      ]
     },
     "execution_count": 9,
     "metadata": {},
     "output_type": "execute_result"
    }
   ],
   "source": [
    "len(movies)"
   ]
  },
  {
   "cell_type": "code",
   "execution_count": 10,
   "id": "0c49ccf8",
   "metadata": {},
   "outputs": [
    {
     "data": {
      "text/plain": [
       "(4809, 7)"
      ]
     },
     "execution_count": 10,
     "metadata": {},
     "output_type": "execute_result"
    }
   ],
   "source": [
    "movies.shape"
   ]
  },
  {
   "cell_type": "code",
   "execution_count": 11,
   "id": "362e64c1",
   "metadata": {},
   "outputs": [],
   "source": [
    "movies = movies.iloc[:2000]"
   ]
  },
  {
   "cell_type": "code",
   "execution_count": 12,
   "id": "b6c41daf",
   "metadata": {},
   "outputs": [
    {
     "data": {
      "text/plain": [
       "(2000, 7)"
      ]
     },
     "execution_count": 12,
     "metadata": {},
     "output_type": "execute_result"
    }
   ],
   "source": [
    "movies.dropna(inplace=True)\n",
    "movies.shape"
   ]
  },
  {
   "cell_type": "code",
   "execution_count": 13,
   "id": "975e0f80",
   "metadata": {},
   "outputs": [
    {
     "data": {
      "text/plain": [
       "0"
      ]
     },
     "execution_count": 13,
     "metadata": {},
     "output_type": "execute_result"
    }
   ],
   "source": [
    "movies.duplicated().sum()"
   ]
  },
  {
   "cell_type": "code",
   "execution_count": 14,
   "id": "5fbe0b01",
   "metadata": {},
   "outputs": [
    {
     "data": {
      "text/plain": [
       "'[{\"id\": 28, \"name\": \"Action\"}, {\"id\": 12, \"name\": \"Adventure\"}, {\"id\": 14, \"name\": \"Fantasy\"}, {\"id\": 878, \"name\": \"Science Fiction\"}]'"
      ]
     },
     "execution_count": 14,
     "metadata": {},
     "output_type": "execute_result"
    }
   ],
   "source": [
    "movies.iloc[0].genres"
   ]
  },
  {
   "cell_type": "markdown",
   "id": "8fb9f98b",
   "metadata": {},
   "source": [
    "#'[{\"id\": 28, \"name\": \"Action\"}, {\"id\": 12, \"name\": \"Adventure\"}, {\"id\": 14, \"name\": \"Fantasy\"}, {\"id\": 878, \"name\": \"Science Fiction\"}]'\n",
    "#we are goint to convert the list of dictionaries into list \n",
    "#['Action','Adevnture','Fantasy','Science Fiction']"
   ]
  },
  {
   "cell_type": "markdown",
   "id": "e42195c3",
   "metadata": {},
   "source": [
    "#but we can't directly convert beacuase the genres is in string form"
   ]
  },
  {
   "cell_type": "code",
   "execution_count": 15,
   "id": "2aa47580",
   "metadata": {},
   "outputs": [],
   "source": [
    "import ast\n",
    "def convert(obj):\n",
    "    L = []\n",
    "    for i in ast.literal_eval(obj):\n",
    "        L.append(i['name'])\n",
    "    return L"
   ]
  },
  {
   "cell_type": "code",
   "execution_count": 16,
   "id": "87322899",
   "metadata": {},
   "outputs": [],
   "source": [
    "movies['genres'] = movies['genres'].apply(convert)"
   ]
  },
  {
   "cell_type": "code",
   "execution_count": 17,
   "id": "d0e53aff",
   "metadata": {},
   "outputs": [
    {
     "data": {
      "text/html": [
       "<div>\n",
       "<style scoped>\n",
       "    .dataframe tbody tr th:only-of-type {\n",
       "        vertical-align: middle;\n",
       "    }\n",
       "\n",
       "    .dataframe tbody tr th {\n",
       "        vertical-align: top;\n",
       "    }\n",
       "\n",
       "    .dataframe thead th {\n",
       "        text-align: right;\n",
       "    }\n",
       "</style>\n",
       "<table border=\"1\" class=\"dataframe\">\n",
       "  <thead>\n",
       "    <tr style=\"text-align: right;\">\n",
       "      <th></th>\n",
       "      <th>movie_id</th>\n",
       "      <th>title</th>\n",
       "      <th>overview</th>\n",
       "      <th>genres</th>\n",
       "      <th>keywords</th>\n",
       "      <th>cast</th>\n",
       "      <th>crew</th>\n",
       "    </tr>\n",
       "  </thead>\n",
       "  <tbody>\n",
       "    <tr>\n",
       "      <th>0</th>\n",
       "      <td>19995</td>\n",
       "      <td>Avatar</td>\n",
       "      <td>In the 22nd century, a paraplegic Marine is di...</td>\n",
       "      <td>[Action, Adventure, Fantasy, Science Fiction]</td>\n",
       "      <td>[{\"id\": 1463, \"name\": \"culture clash\"}, {\"id\":...</td>\n",
       "      <td>[{\"cast_id\": 242, \"character\": \"Jake Sully\", \"...</td>\n",
       "      <td>[{\"credit_id\": \"52fe48009251416c750aca23\", \"de...</td>\n",
       "    </tr>\n",
       "    <tr>\n",
       "      <th>1</th>\n",
       "      <td>285</td>\n",
       "      <td>Pirates of the Caribbean: At World's End</td>\n",
       "      <td>Captain Barbossa, long believed to be dead, ha...</td>\n",
       "      <td>[Adventure, Fantasy, Action]</td>\n",
       "      <td>[{\"id\": 270, \"name\": \"ocean\"}, {\"id\": 726, \"na...</td>\n",
       "      <td>[{\"cast_id\": 4, \"character\": \"Captain Jack Spa...</td>\n",
       "      <td>[{\"credit_id\": \"52fe4232c3a36847f800b579\", \"de...</td>\n",
       "    </tr>\n",
       "    <tr>\n",
       "      <th>2</th>\n",
       "      <td>206647</td>\n",
       "      <td>Spectre</td>\n",
       "      <td>A cryptic message from Bond’s past sends him o...</td>\n",
       "      <td>[Action, Adventure, Crime]</td>\n",
       "      <td>[{\"id\": 470, \"name\": \"spy\"}, {\"id\": 818, \"name...</td>\n",
       "      <td>[{\"cast_id\": 1, \"character\": \"James Bond\", \"cr...</td>\n",
       "      <td>[{\"credit_id\": \"54805967c3a36829b5002c41\", \"de...</td>\n",
       "    </tr>\n",
       "    <tr>\n",
       "      <th>3</th>\n",
       "      <td>49026</td>\n",
       "      <td>The Dark Knight Rises</td>\n",
       "      <td>Following the death of District Attorney Harve...</td>\n",
       "      <td>[Action, Crime, Drama, Thriller]</td>\n",
       "      <td>[{\"id\": 849, \"name\": \"dc comics\"}, {\"id\": 853,...</td>\n",
       "      <td>[{\"cast_id\": 2, \"character\": \"Bruce Wayne / Ba...</td>\n",
       "      <td>[{\"credit_id\": \"52fe4781c3a36847f81398c3\", \"de...</td>\n",
       "    </tr>\n",
       "    <tr>\n",
       "      <th>4</th>\n",
       "      <td>49529</td>\n",
       "      <td>John Carter</td>\n",
       "      <td>John Carter is a war-weary, former military ca...</td>\n",
       "      <td>[Action, Adventure, Science Fiction]</td>\n",
       "      <td>[{\"id\": 818, \"name\": \"based on novel\"}, {\"id\":...</td>\n",
       "      <td>[{\"cast_id\": 5, \"character\": \"John Carter\", \"c...</td>\n",
       "      <td>[{\"credit_id\": \"52fe479ac3a36847f813eaa3\", \"de...</td>\n",
       "    </tr>\n",
       "  </tbody>\n",
       "</table>\n",
       "</div>"
      ],
      "text/plain": [
       "   movie_id                                     title  \\\n",
       "0     19995                                    Avatar   \n",
       "1       285  Pirates of the Caribbean: At World's End   \n",
       "2    206647                                   Spectre   \n",
       "3     49026                     The Dark Knight Rises   \n",
       "4     49529                               John Carter   \n",
       "\n",
       "                                            overview  \\\n",
       "0  In the 22nd century, a paraplegic Marine is di...   \n",
       "1  Captain Barbossa, long believed to be dead, ha...   \n",
       "2  A cryptic message from Bond’s past sends him o...   \n",
       "3  Following the death of District Attorney Harve...   \n",
       "4  John Carter is a war-weary, former military ca...   \n",
       "\n",
       "                                          genres  \\\n",
       "0  [Action, Adventure, Fantasy, Science Fiction]   \n",
       "1                   [Adventure, Fantasy, Action]   \n",
       "2                     [Action, Adventure, Crime]   \n",
       "3               [Action, Crime, Drama, Thriller]   \n",
       "4           [Action, Adventure, Science Fiction]   \n",
       "\n",
       "                                            keywords  \\\n",
       "0  [{\"id\": 1463, \"name\": \"culture clash\"}, {\"id\":...   \n",
       "1  [{\"id\": 270, \"name\": \"ocean\"}, {\"id\": 726, \"na...   \n",
       "2  [{\"id\": 470, \"name\": \"spy\"}, {\"id\": 818, \"name...   \n",
       "3  [{\"id\": 849, \"name\": \"dc comics\"}, {\"id\": 853,...   \n",
       "4  [{\"id\": 818, \"name\": \"based on novel\"}, {\"id\":...   \n",
       "\n",
       "                                                cast  \\\n",
       "0  [{\"cast_id\": 242, \"character\": \"Jake Sully\", \"...   \n",
       "1  [{\"cast_id\": 4, \"character\": \"Captain Jack Spa...   \n",
       "2  [{\"cast_id\": 1, \"character\": \"James Bond\", \"cr...   \n",
       "3  [{\"cast_id\": 2, \"character\": \"Bruce Wayne / Ba...   \n",
       "4  [{\"cast_id\": 5, \"character\": \"John Carter\", \"c...   \n",
       "\n",
       "                                                crew  \n",
       "0  [{\"credit_id\": \"52fe48009251416c750aca23\", \"de...  \n",
       "1  [{\"credit_id\": \"52fe4232c3a36847f800b579\", \"de...  \n",
       "2  [{\"credit_id\": \"54805967c3a36829b5002c41\", \"de...  \n",
       "3  [{\"credit_id\": \"52fe4781c3a36847f81398c3\", \"de...  \n",
       "4  [{\"credit_id\": \"52fe479ac3a36847f813eaa3\", \"de...  "
      ]
     },
     "execution_count": 17,
     "metadata": {},
     "output_type": "execute_result"
    }
   ],
   "source": [
    "movies.head()"
   ]
  },
  {
   "cell_type": "code",
   "execution_count": 18,
   "id": "966b7dee",
   "metadata": {},
   "outputs": [
    {
     "data": {
      "text/plain": [
       "'[{\"id\": 1463, \"name\": \"culture clash\"}, {\"id\": 2964, \"name\": \"future\"}, {\"id\": 3386, \"name\": \"space war\"}, {\"id\": 3388, \"name\": \"space colony\"}, {\"id\": 3679, \"name\": \"society\"}, {\"id\": 3801, \"name\": \"space travel\"}, {\"id\": 9685, \"name\": \"futuristic\"}, {\"id\": 9840, \"name\": \"romance\"}, {\"id\": 9882, \"name\": \"space\"}, {\"id\": 9951, \"name\": \"alien\"}, {\"id\": 10148, \"name\": \"tribe\"}, {\"id\": 10158, \"name\": \"alien planet\"}, {\"id\": 10987, \"name\": \"cgi\"}, {\"id\": 11399, \"name\": \"marine\"}, {\"id\": 13065, \"name\": \"soldier\"}, {\"id\": 14643, \"name\": \"battle\"}, {\"id\": 14720, \"name\": \"love affair\"}, {\"id\": 165431, \"name\": \"anti war\"}, {\"id\": 193554, \"name\": \"power relations\"}, {\"id\": 206690, \"name\": \"mind and soul\"}, {\"id\": 209714, \"name\": \"3d\"}]'"
      ]
     },
     "execution_count": 18,
     "metadata": {},
     "output_type": "execute_result"
    }
   ],
   "source": [
    "movies.iloc[0].keywords"
   ]
  },
  {
   "cell_type": "code",
   "execution_count": 19,
   "id": "d9964d07",
   "metadata": {},
   "outputs": [],
   "source": [
    "movies['keywords'] = movies['keywords'].apply(convert)"
   ]
  },
  {
   "cell_type": "code",
   "execution_count": 20,
   "id": "8ed4b890",
   "metadata": {},
   "outputs": [
    {
     "data": {
      "text/html": [
       "<div>\n",
       "<style scoped>\n",
       "    .dataframe tbody tr th:only-of-type {\n",
       "        vertical-align: middle;\n",
       "    }\n",
       "\n",
       "    .dataframe tbody tr th {\n",
       "        vertical-align: top;\n",
       "    }\n",
       "\n",
       "    .dataframe thead th {\n",
       "        text-align: right;\n",
       "    }\n",
       "</style>\n",
       "<table border=\"1\" class=\"dataframe\">\n",
       "  <thead>\n",
       "    <tr style=\"text-align: right;\">\n",
       "      <th></th>\n",
       "      <th>movie_id</th>\n",
       "      <th>title</th>\n",
       "      <th>overview</th>\n",
       "      <th>genres</th>\n",
       "      <th>keywords</th>\n",
       "      <th>cast</th>\n",
       "      <th>crew</th>\n",
       "    </tr>\n",
       "  </thead>\n",
       "  <tbody>\n",
       "    <tr>\n",
       "      <th>0</th>\n",
       "      <td>19995</td>\n",
       "      <td>Avatar</td>\n",
       "      <td>In the 22nd century, a paraplegic Marine is di...</td>\n",
       "      <td>[Action, Adventure, Fantasy, Science Fiction]</td>\n",
       "      <td>[culture clash, future, space war, space colon...</td>\n",
       "      <td>[{\"cast_id\": 242, \"character\": \"Jake Sully\", \"...</td>\n",
       "      <td>[{\"credit_id\": \"52fe48009251416c750aca23\", \"de...</td>\n",
       "    </tr>\n",
       "    <tr>\n",
       "      <th>1</th>\n",
       "      <td>285</td>\n",
       "      <td>Pirates of the Caribbean: At World's End</td>\n",
       "      <td>Captain Barbossa, long believed to be dead, ha...</td>\n",
       "      <td>[Adventure, Fantasy, Action]</td>\n",
       "      <td>[ocean, drug abuse, exotic island, east india ...</td>\n",
       "      <td>[{\"cast_id\": 4, \"character\": \"Captain Jack Spa...</td>\n",
       "      <td>[{\"credit_id\": \"52fe4232c3a36847f800b579\", \"de...</td>\n",
       "    </tr>\n",
       "    <tr>\n",
       "      <th>2</th>\n",
       "      <td>206647</td>\n",
       "      <td>Spectre</td>\n",
       "      <td>A cryptic message from Bond’s past sends him o...</td>\n",
       "      <td>[Action, Adventure, Crime]</td>\n",
       "      <td>[spy, based on novel, secret agent, sequel, mi...</td>\n",
       "      <td>[{\"cast_id\": 1, \"character\": \"James Bond\", \"cr...</td>\n",
       "      <td>[{\"credit_id\": \"54805967c3a36829b5002c41\", \"de...</td>\n",
       "    </tr>\n",
       "  </tbody>\n",
       "</table>\n",
       "</div>"
      ],
      "text/plain": [
       "   movie_id                                     title  \\\n",
       "0     19995                                    Avatar   \n",
       "1       285  Pirates of the Caribbean: At World's End   \n",
       "2    206647                                   Spectre   \n",
       "\n",
       "                                            overview  \\\n",
       "0  In the 22nd century, a paraplegic Marine is di...   \n",
       "1  Captain Barbossa, long believed to be dead, ha...   \n",
       "2  A cryptic message from Bond’s past sends him o...   \n",
       "\n",
       "                                          genres  \\\n",
       "0  [Action, Adventure, Fantasy, Science Fiction]   \n",
       "1                   [Adventure, Fantasy, Action]   \n",
       "2                     [Action, Adventure, Crime]   \n",
       "\n",
       "                                            keywords  \\\n",
       "0  [culture clash, future, space war, space colon...   \n",
       "1  [ocean, drug abuse, exotic island, east india ...   \n",
       "2  [spy, based on novel, secret agent, sequel, mi...   \n",
       "\n",
       "                                                cast  \\\n",
       "0  [{\"cast_id\": 242, \"character\": \"Jake Sully\", \"...   \n",
       "1  [{\"cast_id\": 4, \"character\": \"Captain Jack Spa...   \n",
       "2  [{\"cast_id\": 1, \"character\": \"James Bond\", \"cr...   \n",
       "\n",
       "                                                crew  \n",
       "0  [{\"credit_id\": \"52fe48009251416c750aca23\", \"de...  \n",
       "1  [{\"credit_id\": \"52fe4232c3a36847f800b579\", \"de...  \n",
       "2  [{\"credit_id\": \"54805967c3a36829b5002c41\", \"de...  "
      ]
     },
     "execution_count": 20,
     "metadata": {},
     "output_type": "execute_result"
    }
   ],
   "source": [
    "movies.head(3)"
   ]
  },
  {
   "cell_type": "code",
   "execution_count": null,
   "id": "e8b8505f",
   "metadata": {},
   "outputs": [],
   "source": []
  },
  {
   "cell_type": "code",
   "execution_count": 21,
   "id": "2f64ee25",
   "metadata": {},
   "outputs": [],
   "source": [
    "def convert_cast(obj):\n",
    "    L = []\n",
    "    counter = 0\n",
    "    for i in ast.literal_eval(obj):\n",
    "        if counter!=3:\n",
    "            L.append(i['name'])\n",
    "            counter+=1\n",
    "        else:\n",
    "            break\n",
    "        \n",
    "    return L"
   ]
  },
  {
   "cell_type": "code",
   "execution_count": 22,
   "id": "c68de778",
   "metadata": {},
   "outputs": [],
   "source": [
    " movies['cast'] = movies['cast'].apply(convert_cast)"
   ]
  },
  {
   "cell_type": "code",
   "execution_count": 23,
   "id": "5b67243d",
   "metadata": {},
   "outputs": [
    {
     "data": {
      "text/html": [
       "<div>\n",
       "<style scoped>\n",
       "    .dataframe tbody tr th:only-of-type {\n",
       "        vertical-align: middle;\n",
       "    }\n",
       "\n",
       "    .dataframe tbody tr th {\n",
       "        vertical-align: top;\n",
       "    }\n",
       "\n",
       "    .dataframe thead th {\n",
       "        text-align: right;\n",
       "    }\n",
       "</style>\n",
       "<table border=\"1\" class=\"dataframe\">\n",
       "  <thead>\n",
       "    <tr style=\"text-align: right;\">\n",
       "      <th></th>\n",
       "      <th>movie_id</th>\n",
       "      <th>title</th>\n",
       "      <th>overview</th>\n",
       "      <th>genres</th>\n",
       "      <th>keywords</th>\n",
       "      <th>cast</th>\n",
       "      <th>crew</th>\n",
       "    </tr>\n",
       "  </thead>\n",
       "  <tbody>\n",
       "    <tr>\n",
       "      <th>0</th>\n",
       "      <td>19995</td>\n",
       "      <td>Avatar</td>\n",
       "      <td>In the 22nd century, a paraplegic Marine is di...</td>\n",
       "      <td>[Action, Adventure, Fantasy, Science Fiction]</td>\n",
       "      <td>[culture clash, future, space war, space colon...</td>\n",
       "      <td>[Sam Worthington, Zoe Saldana, Sigourney Weaver]</td>\n",
       "      <td>[{\"credit_id\": \"52fe48009251416c750aca23\", \"de...</td>\n",
       "    </tr>\n",
       "    <tr>\n",
       "      <th>1</th>\n",
       "      <td>285</td>\n",
       "      <td>Pirates of the Caribbean: At World's End</td>\n",
       "      <td>Captain Barbossa, long believed to be dead, ha...</td>\n",
       "      <td>[Adventure, Fantasy, Action]</td>\n",
       "      <td>[ocean, drug abuse, exotic island, east india ...</td>\n",
       "      <td>[Johnny Depp, Orlando Bloom, Keira Knightley]</td>\n",
       "      <td>[{\"credit_id\": \"52fe4232c3a36847f800b579\", \"de...</td>\n",
       "    </tr>\n",
       "    <tr>\n",
       "      <th>2</th>\n",
       "      <td>206647</td>\n",
       "      <td>Spectre</td>\n",
       "      <td>A cryptic message from Bond’s past sends him o...</td>\n",
       "      <td>[Action, Adventure, Crime]</td>\n",
       "      <td>[spy, based on novel, secret agent, sequel, mi...</td>\n",
       "      <td>[Daniel Craig, Christoph Waltz, Léa Seydoux]</td>\n",
       "      <td>[{\"credit_id\": \"54805967c3a36829b5002c41\", \"de...</td>\n",
       "    </tr>\n",
       "  </tbody>\n",
       "</table>\n",
       "</div>"
      ],
      "text/plain": [
       "   movie_id                                     title  \\\n",
       "0     19995                                    Avatar   \n",
       "1       285  Pirates of the Caribbean: At World's End   \n",
       "2    206647                                   Spectre   \n",
       "\n",
       "                                            overview  \\\n",
       "0  In the 22nd century, a paraplegic Marine is di...   \n",
       "1  Captain Barbossa, long believed to be dead, ha...   \n",
       "2  A cryptic message from Bond’s past sends him o...   \n",
       "\n",
       "                                          genres  \\\n",
       "0  [Action, Adventure, Fantasy, Science Fiction]   \n",
       "1                   [Adventure, Fantasy, Action]   \n",
       "2                     [Action, Adventure, Crime]   \n",
       "\n",
       "                                            keywords  \\\n",
       "0  [culture clash, future, space war, space colon...   \n",
       "1  [ocean, drug abuse, exotic island, east india ...   \n",
       "2  [spy, based on novel, secret agent, sequel, mi...   \n",
       "\n",
       "                                               cast  \\\n",
       "0  [Sam Worthington, Zoe Saldana, Sigourney Weaver]   \n",
       "1     [Johnny Depp, Orlando Bloom, Keira Knightley]   \n",
       "2      [Daniel Craig, Christoph Waltz, Léa Seydoux]   \n",
       "\n",
       "                                                crew  \n",
       "0  [{\"credit_id\": \"52fe48009251416c750aca23\", \"de...  \n",
       "1  [{\"credit_id\": \"52fe4232c3a36847f800b579\", \"de...  \n",
       "2  [{\"credit_id\": \"54805967c3a36829b5002c41\", \"de...  "
      ]
     },
     "execution_count": 23,
     "metadata": {},
     "output_type": "execute_result"
    }
   ],
   "source": [
    "movies.head(3)"
   ]
  },
  {
   "cell_type": "code",
   "execution_count": 24,
   "id": "51b6b91a",
   "metadata": {},
   "outputs": [],
   "source": [
    "def convert_crew(obj):\n",
    "    L = []\n",
    "    for i in ast.literal_eval(obj):\n",
    "        if i['job']=='Director':\n",
    "            L.append(i['name'])\n",
    "            break;\n",
    "    return L"
   ]
  },
  {
   "cell_type": "code",
   "execution_count": 25,
   "id": "9b050e20",
   "metadata": {},
   "outputs": [],
   "source": [
    "movies['crew']=movies['crew'].apply(convert_crew)"
   ]
  },
  {
   "cell_type": "code",
   "execution_count": 26,
   "id": "e4627be9",
   "metadata": {},
   "outputs": [
    {
     "data": {
      "text/html": [
       "<div>\n",
       "<style scoped>\n",
       "    .dataframe tbody tr th:only-of-type {\n",
       "        vertical-align: middle;\n",
       "    }\n",
       "\n",
       "    .dataframe tbody tr th {\n",
       "        vertical-align: top;\n",
       "    }\n",
       "\n",
       "    .dataframe thead th {\n",
       "        text-align: right;\n",
       "    }\n",
       "</style>\n",
       "<table border=\"1\" class=\"dataframe\">\n",
       "  <thead>\n",
       "    <tr style=\"text-align: right;\">\n",
       "      <th></th>\n",
       "      <th>movie_id</th>\n",
       "      <th>title</th>\n",
       "      <th>overview</th>\n",
       "      <th>genres</th>\n",
       "      <th>keywords</th>\n",
       "      <th>cast</th>\n",
       "      <th>crew</th>\n",
       "    </tr>\n",
       "  </thead>\n",
       "  <tbody>\n",
       "    <tr>\n",
       "      <th>0</th>\n",
       "      <td>19995</td>\n",
       "      <td>Avatar</td>\n",
       "      <td>In the 22nd century, a paraplegic Marine is di...</td>\n",
       "      <td>[Action, Adventure, Fantasy, Science Fiction]</td>\n",
       "      <td>[culture clash, future, space war, space colon...</td>\n",
       "      <td>[Sam Worthington, Zoe Saldana, Sigourney Weaver]</td>\n",
       "      <td>[James Cameron]</td>\n",
       "    </tr>\n",
       "    <tr>\n",
       "      <th>1</th>\n",
       "      <td>285</td>\n",
       "      <td>Pirates of the Caribbean: At World's End</td>\n",
       "      <td>Captain Barbossa, long believed to be dead, ha...</td>\n",
       "      <td>[Adventure, Fantasy, Action]</td>\n",
       "      <td>[ocean, drug abuse, exotic island, east india ...</td>\n",
       "      <td>[Johnny Depp, Orlando Bloom, Keira Knightley]</td>\n",
       "      <td>[Gore Verbinski]</td>\n",
       "    </tr>\n",
       "  </tbody>\n",
       "</table>\n",
       "</div>"
      ],
      "text/plain": [
       "   movie_id                                     title  \\\n",
       "0     19995                                    Avatar   \n",
       "1       285  Pirates of the Caribbean: At World's End   \n",
       "\n",
       "                                            overview  \\\n",
       "0  In the 22nd century, a paraplegic Marine is di...   \n",
       "1  Captain Barbossa, long believed to be dead, ha...   \n",
       "\n",
       "                                          genres  \\\n",
       "0  [Action, Adventure, Fantasy, Science Fiction]   \n",
       "1                   [Adventure, Fantasy, Action]   \n",
       "\n",
       "                                            keywords  \\\n",
       "0  [culture clash, future, space war, space colon...   \n",
       "1  [ocean, drug abuse, exotic island, east india ...   \n",
       "\n",
       "                                               cast              crew  \n",
       "0  [Sam Worthington, Zoe Saldana, Sigourney Weaver]   [James Cameron]  \n",
       "1     [Johnny Depp, Orlando Bloom, Keira Knightley]  [Gore Verbinski]  "
      ]
     },
     "execution_count": 26,
     "metadata": {},
     "output_type": "execute_result"
    }
   ],
   "source": [
    "movies.head(2)"
   ]
  },
  {
   "cell_type": "code",
   "execution_count": 27,
   "id": "cf554d3c",
   "metadata": {},
   "outputs": [
    {
     "data": {
      "text/plain": [
       "'In the 22nd century, a paraplegic Marine is dispatched to the moon Pandora on a unique mission, but becomes torn between following orders and protecting an alien civilization.'"
      ]
     },
     "execution_count": 27,
     "metadata": {},
     "output_type": "execute_result"
    }
   ],
   "source": [
    "movies['overview'][0]"
   ]
  },
  {
   "cell_type": "code",
   "execution_count": 28,
   "id": "5e058ec0",
   "metadata": {},
   "outputs": [],
   "source": [
    "movies['overview']= movies['overview'].apply(lambda x:x.split())"
   ]
  },
  {
   "cell_type": "code",
   "execution_count": 29,
   "id": "46592e2b",
   "metadata": {},
   "outputs": [
    {
     "data": {
      "text/html": [
       "<div>\n",
       "<style scoped>\n",
       "    .dataframe tbody tr th:only-of-type {\n",
       "        vertical-align: middle;\n",
       "    }\n",
       "\n",
       "    .dataframe tbody tr th {\n",
       "        vertical-align: top;\n",
       "    }\n",
       "\n",
       "    .dataframe thead th {\n",
       "        text-align: right;\n",
       "    }\n",
       "</style>\n",
       "<table border=\"1\" class=\"dataframe\">\n",
       "  <thead>\n",
       "    <tr style=\"text-align: right;\">\n",
       "      <th></th>\n",
       "      <th>movie_id</th>\n",
       "      <th>title</th>\n",
       "      <th>overview</th>\n",
       "      <th>genres</th>\n",
       "      <th>keywords</th>\n",
       "      <th>cast</th>\n",
       "      <th>crew</th>\n",
       "    </tr>\n",
       "  </thead>\n",
       "  <tbody>\n",
       "    <tr>\n",
       "      <th>0</th>\n",
       "      <td>19995</td>\n",
       "      <td>Avatar</td>\n",
       "      <td>[In, the, 22nd, century,, a, paraplegic, Marin...</td>\n",
       "      <td>[Action, Adventure, Fantasy, Science Fiction]</td>\n",
       "      <td>[culture clash, future, space war, space colon...</td>\n",
       "      <td>[Sam Worthington, Zoe Saldana, Sigourney Weaver]</td>\n",
       "      <td>[James Cameron]</td>\n",
       "    </tr>\n",
       "    <tr>\n",
       "      <th>1</th>\n",
       "      <td>285</td>\n",
       "      <td>Pirates of the Caribbean: At World's End</td>\n",
       "      <td>[Captain, Barbossa,, long, believed, to, be, d...</td>\n",
       "      <td>[Adventure, Fantasy, Action]</td>\n",
       "      <td>[ocean, drug abuse, exotic island, east india ...</td>\n",
       "      <td>[Johnny Depp, Orlando Bloom, Keira Knightley]</td>\n",
       "      <td>[Gore Verbinski]</td>\n",
       "    </tr>\n",
       "    <tr>\n",
       "      <th>2</th>\n",
       "      <td>206647</td>\n",
       "      <td>Spectre</td>\n",
       "      <td>[A, cryptic, message, from, Bond’s, past, send...</td>\n",
       "      <td>[Action, Adventure, Crime]</td>\n",
       "      <td>[spy, based on novel, secret agent, sequel, mi...</td>\n",
       "      <td>[Daniel Craig, Christoph Waltz, Léa Seydoux]</td>\n",
       "      <td>[Sam Mendes]</td>\n",
       "    </tr>\n",
       "    <tr>\n",
       "      <th>3</th>\n",
       "      <td>49026</td>\n",
       "      <td>The Dark Knight Rises</td>\n",
       "      <td>[Following, the, death, of, District, Attorney...</td>\n",
       "      <td>[Action, Crime, Drama, Thriller]</td>\n",
       "      <td>[dc comics, crime fighter, terrorist, secret i...</td>\n",
       "      <td>[Christian Bale, Michael Caine, Gary Oldman]</td>\n",
       "      <td>[Christopher Nolan]</td>\n",
       "    </tr>\n",
       "    <tr>\n",
       "      <th>4</th>\n",
       "      <td>49529</td>\n",
       "      <td>John Carter</td>\n",
       "      <td>[John, Carter, is, a, war-weary,, former, mili...</td>\n",
       "      <td>[Action, Adventure, Science Fiction]</td>\n",
       "      <td>[based on novel, mars, medallion, space travel...</td>\n",
       "      <td>[Taylor Kitsch, Lynn Collins, Samantha Morton]</td>\n",
       "      <td>[Andrew Stanton]</td>\n",
       "    </tr>\n",
       "  </tbody>\n",
       "</table>\n",
       "</div>"
      ],
      "text/plain": [
       "   movie_id                                     title  \\\n",
       "0     19995                                    Avatar   \n",
       "1       285  Pirates of the Caribbean: At World's End   \n",
       "2    206647                                   Spectre   \n",
       "3     49026                     The Dark Knight Rises   \n",
       "4     49529                               John Carter   \n",
       "\n",
       "                                            overview  \\\n",
       "0  [In, the, 22nd, century,, a, paraplegic, Marin...   \n",
       "1  [Captain, Barbossa,, long, believed, to, be, d...   \n",
       "2  [A, cryptic, message, from, Bond’s, past, send...   \n",
       "3  [Following, the, death, of, District, Attorney...   \n",
       "4  [John, Carter, is, a, war-weary,, former, mili...   \n",
       "\n",
       "                                          genres  \\\n",
       "0  [Action, Adventure, Fantasy, Science Fiction]   \n",
       "1                   [Adventure, Fantasy, Action]   \n",
       "2                     [Action, Adventure, Crime]   \n",
       "3               [Action, Crime, Drama, Thriller]   \n",
       "4           [Action, Adventure, Science Fiction]   \n",
       "\n",
       "                                            keywords  \\\n",
       "0  [culture clash, future, space war, space colon...   \n",
       "1  [ocean, drug abuse, exotic island, east india ...   \n",
       "2  [spy, based on novel, secret agent, sequel, mi...   \n",
       "3  [dc comics, crime fighter, terrorist, secret i...   \n",
       "4  [based on novel, mars, medallion, space travel...   \n",
       "\n",
       "                                               cast                 crew  \n",
       "0  [Sam Worthington, Zoe Saldana, Sigourney Weaver]      [James Cameron]  \n",
       "1     [Johnny Depp, Orlando Bloom, Keira Knightley]     [Gore Verbinski]  \n",
       "2      [Daniel Craig, Christoph Waltz, Léa Seydoux]         [Sam Mendes]  \n",
       "3      [Christian Bale, Michael Caine, Gary Oldman]  [Christopher Nolan]  \n",
       "4    [Taylor Kitsch, Lynn Collins, Samantha Morton]     [Andrew Stanton]  "
      ]
     },
     "execution_count": 29,
     "metadata": {},
     "output_type": "execute_result"
    }
   ],
   "source": [
    "movies.head()"
   ]
  },
  {
   "cell_type": "code",
   "execution_count": 30,
   "id": "ba1eec14",
   "metadata": {},
   "outputs": [],
   "source": [
    "movies['genres']= movies['genres'].apply(lambda x:[i.replace(\" \",\"\") for i in x])\n",
    "movies['keywords']= movies['keywords'].apply(lambda x:[i.replace(\" \",\"\") for i in x])\n",
    "movies['cast']= movies['cast'].apply(lambda x:[i.replace(\" \",\"\") for i in x])\n",
    "movies['crew']= movies['crew'].apply(lambda x:[i.replace(\" \",\"\") for i in x])"
   ]
  },
  {
   "cell_type": "code",
   "execution_count": 31,
   "id": "1152a0b3",
   "metadata": {},
   "outputs": [
    {
     "data": {
      "text/html": [
       "<div>\n",
       "<style scoped>\n",
       "    .dataframe tbody tr th:only-of-type {\n",
       "        vertical-align: middle;\n",
       "    }\n",
       "\n",
       "    .dataframe tbody tr th {\n",
       "        vertical-align: top;\n",
       "    }\n",
       "\n",
       "    .dataframe thead th {\n",
       "        text-align: right;\n",
       "    }\n",
       "</style>\n",
       "<table border=\"1\" class=\"dataframe\">\n",
       "  <thead>\n",
       "    <tr style=\"text-align: right;\">\n",
       "      <th></th>\n",
       "      <th>movie_id</th>\n",
       "      <th>title</th>\n",
       "      <th>overview</th>\n",
       "      <th>genres</th>\n",
       "      <th>keywords</th>\n",
       "      <th>cast</th>\n",
       "      <th>crew</th>\n",
       "    </tr>\n",
       "  </thead>\n",
       "  <tbody>\n",
       "    <tr>\n",
       "      <th>0</th>\n",
       "      <td>19995</td>\n",
       "      <td>Avatar</td>\n",
       "      <td>[In, the, 22nd, century,, a, paraplegic, Marin...</td>\n",
       "      <td>[Action, Adventure, Fantasy, ScienceFiction]</td>\n",
       "      <td>[cultureclash, future, spacewar, spacecolony, ...</td>\n",
       "      <td>[SamWorthington, ZoeSaldana, SigourneyWeaver]</td>\n",
       "      <td>[JamesCameron]</td>\n",
       "    </tr>\n",
       "    <tr>\n",
       "      <th>1</th>\n",
       "      <td>285</td>\n",
       "      <td>Pirates of the Caribbean: At World's End</td>\n",
       "      <td>[Captain, Barbossa,, long, believed, to, be, d...</td>\n",
       "      <td>[Adventure, Fantasy, Action]</td>\n",
       "      <td>[ocean, drugabuse, exoticisland, eastindiatrad...</td>\n",
       "      <td>[JohnnyDepp, OrlandoBloom, KeiraKnightley]</td>\n",
       "      <td>[GoreVerbinski]</td>\n",
       "    </tr>\n",
       "    <tr>\n",
       "      <th>2</th>\n",
       "      <td>206647</td>\n",
       "      <td>Spectre</td>\n",
       "      <td>[A, cryptic, message, from, Bond’s, past, send...</td>\n",
       "      <td>[Action, Adventure, Crime]</td>\n",
       "      <td>[spy, basedonnovel, secretagent, sequel, mi6, ...</td>\n",
       "      <td>[DanielCraig, ChristophWaltz, LéaSeydoux]</td>\n",
       "      <td>[SamMendes]</td>\n",
       "    </tr>\n",
       "    <tr>\n",
       "      <th>3</th>\n",
       "      <td>49026</td>\n",
       "      <td>The Dark Knight Rises</td>\n",
       "      <td>[Following, the, death, of, District, Attorney...</td>\n",
       "      <td>[Action, Crime, Drama, Thriller]</td>\n",
       "      <td>[dccomics, crimefighter, terrorist, secretiden...</td>\n",
       "      <td>[ChristianBale, MichaelCaine, GaryOldman]</td>\n",
       "      <td>[ChristopherNolan]</td>\n",
       "    </tr>\n",
       "    <tr>\n",
       "      <th>4</th>\n",
       "      <td>49529</td>\n",
       "      <td>John Carter</td>\n",
       "      <td>[John, Carter, is, a, war-weary,, former, mili...</td>\n",
       "      <td>[Action, Adventure, ScienceFiction]</td>\n",
       "      <td>[basedonnovel, mars, medallion, spacetravel, p...</td>\n",
       "      <td>[TaylorKitsch, LynnCollins, SamanthaMorton]</td>\n",
       "      <td>[AndrewStanton]</td>\n",
       "    </tr>\n",
       "  </tbody>\n",
       "</table>\n",
       "</div>"
      ],
      "text/plain": [
       "   movie_id                                     title  \\\n",
       "0     19995                                    Avatar   \n",
       "1       285  Pirates of the Caribbean: At World's End   \n",
       "2    206647                                   Spectre   \n",
       "3     49026                     The Dark Knight Rises   \n",
       "4     49529                               John Carter   \n",
       "\n",
       "                                            overview  \\\n",
       "0  [In, the, 22nd, century,, a, paraplegic, Marin...   \n",
       "1  [Captain, Barbossa,, long, believed, to, be, d...   \n",
       "2  [A, cryptic, message, from, Bond’s, past, send...   \n",
       "3  [Following, the, death, of, District, Attorney...   \n",
       "4  [John, Carter, is, a, war-weary,, former, mili...   \n",
       "\n",
       "                                         genres  \\\n",
       "0  [Action, Adventure, Fantasy, ScienceFiction]   \n",
       "1                  [Adventure, Fantasy, Action]   \n",
       "2                    [Action, Adventure, Crime]   \n",
       "3              [Action, Crime, Drama, Thriller]   \n",
       "4           [Action, Adventure, ScienceFiction]   \n",
       "\n",
       "                                            keywords  \\\n",
       "0  [cultureclash, future, spacewar, spacecolony, ...   \n",
       "1  [ocean, drugabuse, exoticisland, eastindiatrad...   \n",
       "2  [spy, basedonnovel, secretagent, sequel, mi6, ...   \n",
       "3  [dccomics, crimefighter, terrorist, secretiden...   \n",
       "4  [basedonnovel, mars, medallion, spacetravel, p...   \n",
       "\n",
       "                                            cast                crew  \n",
       "0  [SamWorthington, ZoeSaldana, SigourneyWeaver]      [JamesCameron]  \n",
       "1     [JohnnyDepp, OrlandoBloom, KeiraKnightley]     [GoreVerbinski]  \n",
       "2      [DanielCraig, ChristophWaltz, LéaSeydoux]         [SamMendes]  \n",
       "3      [ChristianBale, MichaelCaine, GaryOldman]  [ChristopherNolan]  \n",
       "4    [TaylorKitsch, LynnCollins, SamanthaMorton]     [AndrewStanton]  "
      ]
     },
     "execution_count": 31,
     "metadata": {},
     "output_type": "execute_result"
    }
   ],
   "source": [
    "movies.head()"
   ]
  },
  {
   "cell_type": "code",
   "execution_count": 32,
   "id": "070e98ea",
   "metadata": {},
   "outputs": [],
   "source": [
    "movies['tags'] = movies['overview']+movies['genres']+movies['keywords']+movies['cast']+movies['crew']"
   ]
  },
  {
   "cell_type": "code",
   "execution_count": 33,
   "id": "b5016cb7",
   "metadata": {},
   "outputs": [
    {
     "data": {
      "text/html": [
       "<div>\n",
       "<style scoped>\n",
       "    .dataframe tbody tr th:only-of-type {\n",
       "        vertical-align: middle;\n",
       "    }\n",
       "\n",
       "    .dataframe tbody tr th {\n",
       "        vertical-align: top;\n",
       "    }\n",
       "\n",
       "    .dataframe thead th {\n",
       "        text-align: right;\n",
       "    }\n",
       "</style>\n",
       "<table border=\"1\" class=\"dataframe\">\n",
       "  <thead>\n",
       "    <tr style=\"text-align: right;\">\n",
       "      <th></th>\n",
       "      <th>movie_id</th>\n",
       "      <th>title</th>\n",
       "      <th>overview</th>\n",
       "      <th>genres</th>\n",
       "      <th>keywords</th>\n",
       "      <th>cast</th>\n",
       "      <th>crew</th>\n",
       "      <th>tags</th>\n",
       "    </tr>\n",
       "  </thead>\n",
       "  <tbody>\n",
       "    <tr>\n",
       "      <th>0</th>\n",
       "      <td>19995</td>\n",
       "      <td>Avatar</td>\n",
       "      <td>[In, the, 22nd, century,, a, paraplegic, Marin...</td>\n",
       "      <td>[Action, Adventure, Fantasy, ScienceFiction]</td>\n",
       "      <td>[cultureclash, future, spacewar, spacecolony, ...</td>\n",
       "      <td>[SamWorthington, ZoeSaldana, SigourneyWeaver]</td>\n",
       "      <td>[JamesCameron]</td>\n",
       "      <td>[In, the, 22nd, century,, a, paraplegic, Marin...</td>\n",
       "    </tr>\n",
       "    <tr>\n",
       "      <th>1</th>\n",
       "      <td>285</td>\n",
       "      <td>Pirates of the Caribbean: At World's End</td>\n",
       "      <td>[Captain, Barbossa,, long, believed, to, be, d...</td>\n",
       "      <td>[Adventure, Fantasy, Action]</td>\n",
       "      <td>[ocean, drugabuse, exoticisland, eastindiatrad...</td>\n",
       "      <td>[JohnnyDepp, OrlandoBloom, KeiraKnightley]</td>\n",
       "      <td>[GoreVerbinski]</td>\n",
       "      <td>[Captain, Barbossa,, long, believed, to, be, d...</td>\n",
       "    </tr>\n",
       "    <tr>\n",
       "      <th>2</th>\n",
       "      <td>206647</td>\n",
       "      <td>Spectre</td>\n",
       "      <td>[A, cryptic, message, from, Bond’s, past, send...</td>\n",
       "      <td>[Action, Adventure, Crime]</td>\n",
       "      <td>[spy, basedonnovel, secretagent, sequel, mi6, ...</td>\n",
       "      <td>[DanielCraig, ChristophWaltz, LéaSeydoux]</td>\n",
       "      <td>[SamMendes]</td>\n",
       "      <td>[A, cryptic, message, from, Bond’s, past, send...</td>\n",
       "    </tr>\n",
       "    <tr>\n",
       "      <th>3</th>\n",
       "      <td>49026</td>\n",
       "      <td>The Dark Knight Rises</td>\n",
       "      <td>[Following, the, death, of, District, Attorney...</td>\n",
       "      <td>[Action, Crime, Drama, Thriller]</td>\n",
       "      <td>[dccomics, crimefighter, terrorist, secretiden...</td>\n",
       "      <td>[ChristianBale, MichaelCaine, GaryOldman]</td>\n",
       "      <td>[ChristopherNolan]</td>\n",
       "      <td>[Following, the, death, of, District, Attorney...</td>\n",
       "    </tr>\n",
       "    <tr>\n",
       "      <th>4</th>\n",
       "      <td>49529</td>\n",
       "      <td>John Carter</td>\n",
       "      <td>[John, Carter, is, a, war-weary,, former, mili...</td>\n",
       "      <td>[Action, Adventure, ScienceFiction]</td>\n",
       "      <td>[basedonnovel, mars, medallion, spacetravel, p...</td>\n",
       "      <td>[TaylorKitsch, LynnCollins, SamanthaMorton]</td>\n",
       "      <td>[AndrewStanton]</td>\n",
       "      <td>[John, Carter, is, a, war-weary,, former, mili...</td>\n",
       "    </tr>\n",
       "  </tbody>\n",
       "</table>\n",
       "</div>"
      ],
      "text/plain": [
       "   movie_id                                     title  \\\n",
       "0     19995                                    Avatar   \n",
       "1       285  Pirates of the Caribbean: At World's End   \n",
       "2    206647                                   Spectre   \n",
       "3     49026                     The Dark Knight Rises   \n",
       "4     49529                               John Carter   \n",
       "\n",
       "                                            overview  \\\n",
       "0  [In, the, 22nd, century,, a, paraplegic, Marin...   \n",
       "1  [Captain, Barbossa,, long, believed, to, be, d...   \n",
       "2  [A, cryptic, message, from, Bond’s, past, send...   \n",
       "3  [Following, the, death, of, District, Attorney...   \n",
       "4  [John, Carter, is, a, war-weary,, former, mili...   \n",
       "\n",
       "                                         genres  \\\n",
       "0  [Action, Adventure, Fantasy, ScienceFiction]   \n",
       "1                  [Adventure, Fantasy, Action]   \n",
       "2                    [Action, Adventure, Crime]   \n",
       "3              [Action, Crime, Drama, Thriller]   \n",
       "4           [Action, Adventure, ScienceFiction]   \n",
       "\n",
       "                                            keywords  \\\n",
       "0  [cultureclash, future, spacewar, spacecolony, ...   \n",
       "1  [ocean, drugabuse, exoticisland, eastindiatrad...   \n",
       "2  [spy, basedonnovel, secretagent, sequel, mi6, ...   \n",
       "3  [dccomics, crimefighter, terrorist, secretiden...   \n",
       "4  [basedonnovel, mars, medallion, spacetravel, p...   \n",
       "\n",
       "                                            cast                crew  \\\n",
       "0  [SamWorthington, ZoeSaldana, SigourneyWeaver]      [JamesCameron]   \n",
       "1     [JohnnyDepp, OrlandoBloom, KeiraKnightley]     [GoreVerbinski]   \n",
       "2      [DanielCraig, ChristophWaltz, LéaSeydoux]         [SamMendes]   \n",
       "3      [ChristianBale, MichaelCaine, GaryOldman]  [ChristopherNolan]   \n",
       "4    [TaylorKitsch, LynnCollins, SamanthaMorton]     [AndrewStanton]   \n",
       "\n",
       "                                                tags  \n",
       "0  [In, the, 22nd, century,, a, paraplegic, Marin...  \n",
       "1  [Captain, Barbossa,, long, believed, to, be, d...  \n",
       "2  [A, cryptic, message, from, Bond’s, past, send...  \n",
       "3  [Following, the, death, of, District, Attorney...  \n",
       "4  [John, Carter, is, a, war-weary,, former, mili...  "
      ]
     },
     "execution_count": 33,
     "metadata": {},
     "output_type": "execute_result"
    }
   ],
   "source": [
    "movies.head()"
   ]
  },
  {
   "cell_type": "code",
   "execution_count": 34,
   "id": "ccb0349d",
   "metadata": {},
   "outputs": [
    {
     "data": {
      "text/html": [
       "<div>\n",
       "<style scoped>\n",
       "    .dataframe tbody tr th:only-of-type {\n",
       "        vertical-align: middle;\n",
       "    }\n",
       "\n",
       "    .dataframe tbody tr th {\n",
       "        vertical-align: top;\n",
       "    }\n",
       "\n",
       "    .dataframe thead th {\n",
       "        text-align: right;\n",
       "    }\n",
       "</style>\n",
       "<table border=\"1\" class=\"dataframe\">\n",
       "  <thead>\n",
       "    <tr style=\"text-align: right;\">\n",
       "      <th></th>\n",
       "      <th>movie_id</th>\n",
       "      <th>title</th>\n",
       "      <th>tags</th>\n",
       "    </tr>\n",
       "  </thead>\n",
       "  <tbody>\n",
       "    <tr>\n",
       "      <th>0</th>\n",
       "      <td>19995</td>\n",
       "      <td>Avatar</td>\n",
       "      <td>[In, the, 22nd, century,, a, paraplegic, Marin...</td>\n",
       "    </tr>\n",
       "    <tr>\n",
       "      <th>1</th>\n",
       "      <td>285</td>\n",
       "      <td>Pirates of the Caribbean: At World's End</td>\n",
       "      <td>[Captain, Barbossa,, long, believed, to, be, d...</td>\n",
       "    </tr>\n",
       "    <tr>\n",
       "      <th>2</th>\n",
       "      <td>206647</td>\n",
       "      <td>Spectre</td>\n",
       "      <td>[A, cryptic, message, from, Bond’s, past, send...</td>\n",
       "    </tr>\n",
       "    <tr>\n",
       "      <th>3</th>\n",
       "      <td>49026</td>\n",
       "      <td>The Dark Knight Rises</td>\n",
       "      <td>[Following, the, death, of, District, Attorney...</td>\n",
       "    </tr>\n",
       "    <tr>\n",
       "      <th>4</th>\n",
       "      <td>49529</td>\n",
       "      <td>John Carter</td>\n",
       "      <td>[John, Carter, is, a, war-weary,, former, mili...</td>\n",
       "    </tr>\n",
       "  </tbody>\n",
       "</table>\n",
       "</div>"
      ],
      "text/plain": [
       "   movie_id                                     title  \\\n",
       "0     19995                                    Avatar   \n",
       "1       285  Pirates of the Caribbean: At World's End   \n",
       "2    206647                                   Spectre   \n",
       "3     49026                     The Dark Knight Rises   \n",
       "4     49529                               John Carter   \n",
       "\n",
       "                                                tags  \n",
       "0  [In, the, 22nd, century,, a, paraplegic, Marin...  \n",
       "1  [Captain, Barbossa,, long, believed, to, be, d...  \n",
       "2  [A, cryptic, message, from, Bond’s, past, send...  \n",
       "3  [Following, the, death, of, District, Attorney...  \n",
       "4  [John, Carter, is, a, war-weary,, former, mili...  "
      ]
     },
     "execution_count": 34,
     "metadata": {},
     "output_type": "execute_result"
    }
   ],
   "source": [
    "df = movies[['movie_id','title','tags']]\n",
    "df.head()"
   ]
  },
  {
   "cell_type": "code",
   "execution_count": 35,
   "id": "1a3e4fe8",
   "metadata": {},
   "outputs": [
    {
     "name": "stderr",
     "output_type": "stream",
     "text": [
      "C:\\Users\\SUMAN MONDAL\\AppData\\Local\\Temp\\ipykernel_14932\\2493417758.py:1: SettingWithCopyWarning: \n",
      "A value is trying to be set on a copy of a slice from a DataFrame.\n",
      "Try using .loc[row_indexer,col_indexer] = value instead\n",
      "\n",
      "See the caveats in the documentation: https://pandas.pydata.org/pandas-docs/stable/user_guide/indexing.html#returning-a-view-versus-a-copy\n",
      "  df['tags']=df['tags'].apply(lambda x:\" \".join(x))\n"
     ]
    }
   ],
   "source": [
    "df['tags']=df['tags'].apply(lambda x:\" \".join(x))"
   ]
  },
  {
   "cell_type": "code",
   "execution_count": 36,
   "id": "b313456e",
   "metadata": {},
   "outputs": [
    {
     "data": {
      "text/plain": [
       "'In the 22nd century, a paraplegic Marine is dispatched to the moon Pandora on a unique mission, but becomes torn between following orders and protecting an alien civilization. Action Adventure Fantasy ScienceFiction cultureclash future spacewar spacecolony society spacetravel futuristic romance space alien tribe alienplanet cgi marine soldier battle loveaffair antiwar powerrelations mindandsoul 3d SamWorthington ZoeSaldana SigourneyWeaver JamesCameron'"
      ]
     },
     "execution_count": 36,
     "metadata": {},
     "output_type": "execute_result"
    }
   ],
   "source": [
    "df['tags'][0]"
   ]
  },
  {
   "cell_type": "code",
   "execution_count": 37,
   "id": "e309c3c3",
   "metadata": {},
   "outputs": [
    {
     "name": "stderr",
     "output_type": "stream",
     "text": [
      "C:\\Users\\SUMAN MONDAL\\AppData\\Local\\Temp\\ipykernel_14932\\2034404066.py:1: SettingWithCopyWarning: \n",
      "A value is trying to be set on a copy of a slice from a DataFrame.\n",
      "Try using .loc[row_indexer,col_indexer] = value instead\n",
      "\n",
      "See the caveats in the documentation: https://pandas.pydata.org/pandas-docs/stable/user_guide/indexing.html#returning-a-view-versus-a-copy\n",
      "  df['tags']=df['tags'].apply(lambda x:x.lower())\n"
     ]
    }
   ],
   "source": [
    "df['tags']=df['tags'].apply(lambda x:x.lower())"
   ]
  },
  {
   "cell_type": "code",
   "execution_count": 38,
   "id": "22f39726",
   "metadata": {},
   "outputs": [],
   "source": [
    "!pip install nltk --quiet"
   ]
  },
  {
   "cell_type": "code",
   "execution_count": 39,
   "id": "70df25b8",
   "metadata": {},
   "outputs": [],
   "source": [
    "import nltk"
   ]
  },
  {
   "cell_type": "code",
   "execution_count": 40,
   "id": "5fa02cb3",
   "metadata": {},
   "outputs": [],
   "source": [
    "from nltk.stem.porter import PorterStemmer\n",
    "ps = PorterStemmer()"
   ]
  },
  {
   "cell_type": "code",
   "execution_count": 41,
   "id": "e604c141",
   "metadata": {},
   "outputs": [],
   "source": [
    "def stem(text):\n",
    "    y = []\n",
    "    for i in text.split():\n",
    "        y.append(ps.stem(i))\n",
    "    return \" \".join(y)"
   ]
  },
  {
   "cell_type": "code",
   "execution_count": 42,
   "id": "f73dadf6",
   "metadata": {},
   "outputs": [
    {
     "name": "stderr",
     "output_type": "stream",
     "text": [
      "C:\\Users\\SUMAN MONDAL\\AppData\\Local\\Temp\\ipykernel_14932\\866399325.py:1: SettingWithCopyWarning: \n",
      "A value is trying to be set on a copy of a slice from a DataFrame.\n",
      "Try using .loc[row_indexer,col_indexer] = value instead\n",
      "\n",
      "See the caveats in the documentation: https://pandas.pydata.org/pandas-docs/stable/user_guide/indexing.html#returning-a-view-versus-a-copy\n",
      "  df['tags'] = df['tags'].apply(stem)\n"
     ]
    }
   ],
   "source": [
    "df['tags'] = df['tags'].apply(stem)"
   ]
  },
  {
   "cell_type": "code",
   "execution_count": 43,
   "id": "287df4d8",
   "metadata": {},
   "outputs": [],
   "source": [
    "from sklearn.feature_extraction.text import CountVectorizer\n",
    "cv = CountVectorizer(max_features = 5000,stop_words='english')"
   ]
  },
  {
   "cell_type": "code",
   "execution_count": 44,
   "id": "bf62c38a",
   "metadata": {},
   "outputs": [
    {
     "data": {
      "text/plain": [
       "array([[0, 0, 0, ..., 0, 0, 0],\n",
       "       [0, 0, 0, ..., 0, 0, 0],\n",
       "       [0, 0, 0, ..., 0, 0, 0],\n",
       "       ...,\n",
       "       [0, 0, 0, ..., 0, 0, 0],\n",
       "       [0, 0, 0, ..., 0, 0, 0],\n",
       "       [0, 0, 0, ..., 0, 0, 0]], dtype=int64)"
      ]
     },
     "execution_count": 44,
     "metadata": {},
     "output_type": "execute_result"
    }
   ],
   "source": [
    "vectors = cv.fit_transform(df['tags']).toarray()\n",
    "vectors"
   ]
  },
  {
   "cell_type": "code",
   "execution_count": 45,
   "id": "77eed6b5",
   "metadata": {},
   "outputs": [
    {
     "name": "stdout",
     "output_type": "stream",
     "text": [
      "['000', '007', '10', '11', '12', '13', '14', '15', '150', '16', '16th', '17', '17th', '1863', '18th', '18thcenturi', '19', '1910', '1920', '1930', '1937', '1940', '1941', '1950', '1950s', '1959', '1960', '1970', '1970s', '1972', '1980', '1999', '19th', '19thcenturi', '20', '200', '2003', '20th', '21st', '21stcenturi', '22nd', '23', '24', '25', '30', '300', '3d', '40', '400', '47', '50', '500', '51', '60', '60s', '66', '70', 'aaron', 'aaroneckhart', 'aarontaylor', 'abandon', 'abduct', 'abil', 'abl', 'aboard', 'abram', 'abus', 'academi', 'accept', 'access', 'accid', 'accident', 'accompani', 'accomplish', 'account', 'accus', 'ace', 'achiev', 'acquaint', 'act', 'action', 'actionhero', 'activ', 'activist', 'actor', 'actress', 'actual', 'adam', 'adammckay', 'adamsandl', 'adamshankman', 'adapt', 'add', 'addict', 'adjust', 'admir', 'admit', 'adolesc', 'adopt', 'adoptivefath', 'ador', 'adrienbrodi', 'adrift', 'adult', 'adulteri', 'adulthood', 'advanc', 'adventur', 'adventure', 'adventures', 'advertis', 'advic', 'advis', 'affair', 'affect', 'afghanistan', 'afraid', 'africa', 'african', 'aftercreditssting', 'afterlif', 'aftermath', 'ag', 'age', 'agediffer', 'agenc', 'agency', 'agenda', 'agent', 'ago', 'agre', 'ahead', 'aid', 'aidanquinn', 'ail', 'aim', 'air', 'airborn', 'aircraft', 'airplan', 'airplanecrash', 'airport', 'aka', 'al', 'alabama', 'alanpark', 'alaska', 'albert', 'albertfinney', 'alcatraz', 'alcohol', 'aldou', 'alecbaldwin', 'alejandro', 'alex', 'alexanderskarsgård', 'alexproya', 'ali', 'alic', 'alice', 'alicebraga', 'alien', 'alieninvas', 'alienlife', 'alienplanet', 'aliens', 'alilart', 'aliv', 'alive', 'allegra', 'allen', 'alli', 'allianc', 'allies', 'allow', 'ally', 'almási', 'alon', 'alongsid', 'alpacino', 'alpha', 'alreadi', 'alter', 'altern', 'alternatehistori', 'alternater', 'alvin', 'alway', 'alzheimer', 'amandapeet', 'amandaseyfri', 'amateur', 'amaz', 'amazon', 'ambassador', 'ambit', 'ambiti', 'ambul', 'ambush', 'america', 'american', 'americanabroad', 'americancivilwar', 'americanfootbal', 'americanfootballplay', 'amid', 'amidst', 'amnesia', 'amp', 'amus', 'amusementpark', 'amyadam', 'anakin', 'analyst', 'ancient', 'ancientegypt', 'ancientgreec', 'ancientworld', 'anderson', 'andi', 'andrew', 'andrewadamson', 'andrewniccol', 'andrewstanton', 'android', 'andrzejbartkowiak', 'andy', 'andyfickman', 'andytenn', 'angel', 'angela', 'angelabassett', 'angeles', 'angelinajoli', 'anger', 'angle', 'angri', 'ani', 'anim', 'animalattack', 'animalhorror', 'animals', 'anjelicahuston', 'ann', 'anna', 'annafari', 'annefletch', 'annehathaway', 'annemoss', 'annetteben', 'anni', 'annie', 'announc', 'annual', 'anonym', 'anoth', 'answer', 'ant', 'anthoni', 'anthonyanderson', 'anthonyhopkin', 'anthonymacki', 'anthropomorph', 'anti', 'antihero', 'antiqu', 'antoinefuqua', 'antoniobandera', 'anyon', 'anyth', 'apart', 'apartheid', 'apartment', 'ape', 'apes', 'apocalyps', 'apocalypse', 'apocalypt', 'appar', 'appear', 'appl', 'apple', 'appoint', 'apprehend', 'apprentic', 'approach', 'april', 'arab', 'arch', 'archaeologist', 'archeolog', 'archer', 'archeri', 'architect', 'arctic', 'arduou', 'area', 'arena', 'argument', 'aris', 'aristocrat', 'arm', 'armi', 'armor', 'armsdeal', 'army', 'arnoldschwarzenegg', 'arrang', 'arrest', 'arriv', 'arrog', 'art', 'arthur', 'artifici', 'artificialintellig', 'artist', 'asgard', 'ashley', 'ashleyjudd', 'ashtonkutch', 'asid', 'ask', 'aspir', 'assassin', 'assault', 'assembl', 'assign', 'assist', 'assistant', 'associ', 'assum', 'asteroid', 'astronaut', 'athlet', 'atomicbomb', 'attack', 'attacks', 'attempt', 'attemptedmurd', 'attend', 'attent', 'attorney', 'attract', 'auction', 'audienc', 'audit', 'aunt', 'austin', 'australia', 'australian', 'author', 'autism', 'auto', 'autobot', 'automaton', 'automobilerac', 'aveng', 'averag', 'avert', 'aviat', 'avoid', 'await', 'awaken', 'award', 'away', 'awkward', 'awri', 'babe', 'babi', 'baby', 'bachelor', 'backdrop', 'background', 'backyard', 'bad', 'badli', 'bahama', 'bail', 'baker', 'balanc', 'ball', 'ban', 'band', 'bangkok', 'banish', 'bank', 'banker', 'bankrobb', 'bar', 'barbrastreisand', 'bargain', 'barn', 'barney', 'baron', 'barri', 'barrio', 'barry', 'barrylevinson', 'barrysonnenfeld', 'bas', 'base', 'basebal', 'baseball', 'basedonchildren', 'basedoncomicbook', 'basedonfairytal', 'basedongraphicnovel', 'basedonnovel', 'basedonplay', 'basedonstagemus', 'basedontrueev', 'basedontruestori', 'basedontvseri', 'basedonvideogam', 'basedonyoungadultnovel', 'basketbal', 'batman', 'battl', 'battle', 'battlefield', 'beach', 'beam', 'bear', 'beard', 'beast', 'beat', 'beauti', 'beautifulwoman', 'beauty', 'becam', 'becaus', 'becom', 'becominganadult', 'bed', 'befor', 'befriend', 'began', 'begin', 'begins', 'behavior', 'belief', 'believ', 'bella', 'belong', 'belov', 'ben', 'benaffleck', 'bend', 'benfost', 'beniciodeltoro', 'benjamin', 'benjaminbratt', 'benkingsley', 'bennet', 'bennett', 'benstil', 'bent', 'berlin', 'berniemac', 'best', 'bestfriend', 'bestfriendsinlov', 'bet', 'betray', 'bettemidl', 'better', 'bettythoma', 'bibl', 'bid', 'big', 'biggest', 'biker', 'bikini', 'bilbo', 'billhad', 'billi', 'billion', 'billionair', 'billmurray', 'billnighi', 'billpaxton', 'billpullman', 'billybobthornton', 'billycrudup', 'billycryst', 'biographi', 'biopic', 'bird', 'birde', 'birth', 'birthday', 'bishop', 'bit', 'bite', 'bitter', 'bizarr', 'black', 'blackhol', 'blackmag', 'blackmail', 'blackpeopl', 'blade', 'blame', 'blart', 'blaze', 'bless', 'blind', 'bliss', 'blizzard', 'blockbust', 'blond', 'blood', 'bloodi', 'bloodthirsti', 'blow', 'blu', 'blue', 'blunt', 'board', 'boat', 'boatchas', 'bob', 'bobbi', 'bobbyfarrelli', 'bodi', 'body', 'bodyguard', 'bohemian', 'bomb', 'bomber', 'bond', 'bone', 'bonniehunt', 'boo', 'book', 'boots', 'border', 'bore', 'born', 'boss', 'boston', 'bottl', 'bound', 'boundari', 'bounti', 'bountyhunt', 'bourn', 'bout', 'box', 'boxer', 'boxingmatch', 'boy', 'boyd', 'boyfriend', 'boys', 'bradbird', 'bradleycoop', 'bradpitt', 'brain', 'brand', 'brave', 'braveri', 'break', 'breakfast', 'breath', 'breed', 'brendanfras', 'brendangleeson', 'brentspin', 'brettratn', 'brian', 'briandepalma', 'brianhelgeland', 'brianlev', 'brianrobbin', 'bride', 'bridesmaid', 'bridg', 'bridge', 'bridgetfonda', 'bright', 'brilliant', 'bring', 'brink', 'britain', 'british', 'britishsecretservic', 'brittanymurphi', 'broadcast', 'broke', 'broken', 'brook', 'brooklyn', 'broom', 'brothel', 'brother', 'brotherbrotherrelationship', 'brothersisterrelationship', 'brought', 'brown', 'bruce', 'brucegreenwood', 'brucewilli', 'brutal', 'bryan', 'bryancranston', 'bryansing', 'buddhistmonk', 'buddi', 'buddycomedi', 'buddycop', 'bug', 'build', 'building', 'built', 'bullet', 'bulli', 'bumbl', 'bunni', 'burglar', 'buri', 'burn', 'burnett', 'burton', 'bush', 'busi', 'business', 'businessman', 'bust', 'butler', 'butt', 'button', 'buy', 'buzz', 'cabin', 'caesar', 'cage', 'cal', 'california', 'calvin', 'came', 'camera', 'cameroncrow', 'camerondiaz', 'camp', 'campaign', 'campbell', 'canadian', 'cancer', 'candid', 'canin', 'cao', 'capabl', 'caper', 'capit', 'capt', 'captain', 'captiv', 'captur', 'capture', 'captured', 'car', 'carchas', 'carcrash', 'card', 'care', 'career', 'caribbean', 'carjourney', 'carl', 'carlagugino', 'carlossaldanha', 'carmen', 'carol', 'carolina', 'carrac', 'carri', 'carrie', 'cartel', 'carter', 'cartoon', 'caryelw', 'casanova', 'case', 'cash', 'casino', 'cast', 'castl', 'castle', 'cat', 'cataclysm', 'catastroph', 'catch', 'cateblanchett', 'catherinehardwick', 'catherinekeen', 'catherinezeta', 'cathol', 'catholic', 'cattl', 'catwoman', 'caught', 'caus', 'cavalri', 'cave', 'cavemen', 'celebr', 'cellphon', 'cemeteri', 'center', 'central', 'centuri', 'centuries', 'century', 'certain', 'cgi', 'chain', 'challeng', 'champion', 'championship', 'chanc', 'chance', 'chang', 'channingtatum', 'chao', 'chaos', 'chaotic', 'charact', 'characters', 'charg', 'charl', 'charless', 'charli', 'charlie', 'charlieday', 'charlizetheron', 'charlott', 'charm', 'chase', 'chauffeur', 'cheat', 'cheerlead', 'chef', 'chemic', 'chest', 'chicago', 'chicken', 'chief', 'child', 'childabus', 'childhero', 'childhood', 'childprodigi', 'children', 'chili', 'chimp', 'china', 'chinatown', 'chines', 'chip', 'chipmunk', 'chloëgracemoretz', 'chocol', 'choic', 'choice', 'chon', 'choos', 'chosen', 'chosenon', 'chowyun', 'chri', 'chriscolumbu', 'chriscoop', 'chrisevan', 'chrishemsworth', 'chrisklein', 'chrispin', 'chrispratt', 'chrisrock', 'chrissand', 'christ', 'christian', 'christianbal', 'christin', 'christinaappleg', 'christma', 'christmas', 'christmasparti', 'christoph', 'christopherlloyd', 'christophernolan', 'christopherplumm', 'christopherwalken', 'christophwaltz', 'chriswedg', 'chrisweitz', 'chronicl', 'chuck', 'chucki', 'church', 'cia', 'cillianmurphi', 'cinema', 'circl', 'circu', 'circuit', 'circumst', 'citi', 'citizen', 'city', 'civil', 'civilian', 'civilization', 'civilwar', 'claim', 'clair', 'clairedan', 'clan', 'clark', 'clash', 'class', 'classic', 'classmat', 'claudevandamm', 'clean', 'clear', 'client', 'clients', 'clifford', 'climb', 'clinteastwood', 'cliveowen', 'clock', 'clone', 'close', 'closer', 'cloud', 'club', 'clue', 'clueless', 'clutch', 'coach', 'coast', 'cobra', 'cocain', 'cocki', 'code', 'codi', 'col', 'cold', 'coldwar', 'cole', 'colinfarrel', 'colinfirth', 'collaps', 'colleagu', 'collect', 'collector', 'colleg', 'college', 'collid', 'collide', 'collin', 'collis', 'colombia', 'colonel', 'coloni', 'color', 'coma', 'combat', 'combin', 'come', 'comeback', 'comedi', 'comedy', 'comet', 'comfort', 'comic', 'command', 'commander', 'commando', 'commerci', 'commiss', 'commit', 'common', 'commun', 'community', 'compani', 'companion', 'company', 'compet', 'competit', 'competition', 'complet', 'complex', 'complic', 'compromis', 'compuls', 'comput', 'computer', 'computerhack', 'computerviru', 'conan', 'concert', 'condit', 'conduct', 'confeder', 'confid', 'conflict', 'confront', 'congress', 'congressman', 'connect', 'connel', 'connienielsen', 'connor', 'conquer', 'conquest', 'conscienc', 'consequ', 'consequences', 'conserv', 'consid', 'conspir', 'conspiraci', 'conspiracy', 'conspiracyofmurd', 'constant', 'constantli', 'construct', 'consum', 'contact', 'contain', 'contend', 'contest', 'continu', 'contract', 'control', 'controversi', 'convict', 'convinc', 'cook', 'cool', 'cooper', 'cop', 'cope', 'cops', 'core', 'corner', 'corp', 'corpor', 'corporation', 'corps', 'corrupt', 'cortez', 'cost', 'costum', 'couldn', 'count', 'countdown', 'counterfeit', 'countless', 'countri', 'country', 'countrymus', 'county', 'coup', 'coupd', 'coupl', 'couple', 'courag', 'cours', 'court', 'courtcas', 'courteneycox', 'courtroom', 'courtship', 'cousin', 'cover', 'covert', 'cow', 'cowardli', 'cowboy', 'crack', 'crane', 'crash', 'crate', 'crazi', 'creat', 'creation', 'creator', 'creatur', 'creature', 'creatures', 'credit', 'crew', 'crime', 'crimefight', 'crimes', 'crimin', 'criminal', 'criminals', 'crisi', 'crisis', 'critic', 'crocodil', 'crook', 'crop', 'cross', 'crowd', 'crown', 'cruel', 'cruis', 'crusad', 'crush', 'cuba', 'cubagoodingjr', 'cullen', 'cult', 'cultur', 'cun', 'cup', 'cure', 'current', 'curs', 'curse', 'curtishanson', 'custodi', 'custom', 'cut', 'cuttingthecord', 'cyberpunk', 'cyborg', 'cynic', 'dad', 'daili', 'dakotafan', 'dale', 'damag', 'damien', 'damon', 'dan', 'dana', 'danaykroyd', 'danc', 'dancer', 'danger', 'daniel', 'danielcraig', 'danielday', 'danielradcliff', 'danni', 'danny', 'dannydevito', 'dannyglov', 'dannymcbrid', 'dare', 'dark', 'darkcomedi', 'darkest', 'darkfantasi', 'darkness', 'darylhannah', 'dash', 'dastardli', 'date', 'daughter', 'dave', 'davi', 'david', 'davidarquett', 'davidcross', 'davidfinch', 'davidfrankel', 'davidgordongreen', 'davidmors', 'davido', 'davidr', 'davidschwimm', 'davidspad', 'davidthewli', 'day', 'daydream', 'days', 'dc', 'dccomic', 'dea', 'deaagent', 'dead', 'deadli', 'deadliest', 'deal', 'dealer', 'dean', 'death', 'deathofafriend', 'debt', 'decad', 'deceas', 'deceit', 'decept', 'decid', 'decim', 'decis', 'declar', 'decor', 'dedic', 'deed', 'deep', 'deepli', 'defeat', 'defend', 'defens', 'defi', 'defin', 'deforestkelley', 'deform', 'deliv', 'delus', 'demand', 'demimoor', 'demon', 'denisleari', 'dennisdugan', 'dennisquaid', 'dent', 'dentist', 'denunci', 'denzelwashington', 'depart', 'department', 'depict', 'deport', 'depth', 'deputi', 'derek', 'descend', 'desert', 'design', 'desir', 'desk', 'despair', 'desper', 'despit', 'destin', 'destini', 'destiny', 'destroy', 'destroyed', 'destruct', 'destruction', 'detect', 'detective', 'determin', 'detroit', 'devast', 'develop', 'devic', 'devil', 'devis', 'devot', 'diabol', 'diamant', 'diamond', 'dianekeaton', 'dianekrug', 'dianelan', 'diari', 'dick', 'dictat', 'did', 'didn', 'die', 'diego', 'dies', 'differ', 'different', 'difficult', 'dig', 'dil', 'dilemma', 'diner', 'dinner', 'dinosaur', 'diplomat', 'direct', 'director', 'dirtycop', 'disappear', 'disappears', 'disast', 'disaster', 'disastermovi', 'disastr', 'discov', 'discoveri', 'discovery', 'diseas', 'disease', 'disfigur', 'disgrac', 'disguis', 'disillus', 'disord', 'disorder', 'dispatch', 'distanc', 'distant', 'district', 'districtattorney', 'ditch', 'dive', 'diver', 'diverg', 'divid', 'divis', 'divorc', 'divorce', 'dna', 'doc', 'doctor', 'document', 'documentari', 'doe', 'doesn', 'dog', 'dolittl', 'doll', 'dollar', 'dolphin', 'domest', 'domin', 'domination', 'dominicwest', 'don', 'donaldpetri', 'donaldsutherland', 'doncheadl', 'donnel', 'doom', 'doomsday', 'door', 'doubl', 'double', 'doublecross', 'doublelif', 'doubt', 'doug', 'dougliman', 'dr', 'dracula', 'draft', 'drag', 'dragon', 'drama', 'dramat', 'draw', 'drawn', 'dream', 'dreams', 'dreamsequ', 'drewbarrymor', 'drift', 'drifter', 'drill', 'drink', 'drive', 'driven', 'driver', 'drone', 'drop', 'drown', 'drug', 'drugabus', 'drugaddict', 'drugdeal', 'druglord', 'drugsmuggl', 'drugtraff', 'drunk', 'drunken', 'du', 'dualident', 'duck', 'duel', 'duke', 'dump', 'duo', 'dure', 'duringcreditssting', 'dust', 'dustinhoffman', 'dutch', 'duti', 'dutton', 'dwarv', 'dwaynejohnson', 'dying', 'dyinganddeath', 'dynam', 'dynasti', 'dysfunctionalfamili', 'dystopia', 'dystopicfutur', 'eager', 'earli', 'earlier', 'earn', 'earp', 'earth', 'earthquak', 'easi', 'east', 'eastindiatradingcompani', 'eat', 'eccentr', 'econom', 'ed', 'eddi', 'eddiemurphi', 'edg', 'edharri', 'editor', 'educ', 'edward', 'edwardnorton', 'edwardzwick', 'effect', 'effort', 'egg', 'ego', 'egypt', 'egyptian', 'el', 'elderli', 'elect', 'electioncampaign', 'element', 'elements', 'elev', 'elf', 'elijahwood', 'elimin', 'elisabethshu', 'elit', 'elizabeth', 'elizabethbank', 'elizabethhurley', 'elizabethperkin', 'ella', 'ellefan', 'ellenburstyn', 'elli', 'elliot', 'els', 'elsa', 'elud', 'elus', 'elv', 'elvi', 'embark', 'embassi', 'ember', 'embroil', 'emerald', 'emerg', 'emilehirsch', 'emili', 'emily', 'emilyblunt', 'emilybrown', 'emilywatson', 'emma', 'emmaston', 'emmathompson', 'emmawatson', 'emot', 'emperor', 'empir', 'empire', 'employ', 'employe', 'empress', 'enabl', 'enchant', 'enchantress', 'encount', 'encounter', 'end', 'endang', 'endeavor', 'endless', 'endoftheworld', 'endow', 'endur', 'enemi', 'enemies', 'enemy', 'energi', 'enforc', 'engag', 'engaged', 'engin', 'england', 'english', 'engulf', 'enigmat', 'enjoy', 'enlist', 'enorm', 'ensembl', 'ensemblecast', 'enslav', 'ensu', 'ensues', 'ensur', 'entangl', 'enter', 'enterpris', 'enterprise', 'entertain', 'enthusiast', 'entir', 'entiti', 'entrepreneur', 'environ', 'environment', 'envis', 'epic', 'epidem', 'equal', 'er', 'era', 'ericbana', 'ericdarnel', 'erin', 'erotic', 'erupt', 'escap', 'escapad', 'escape', 'escapefromprison', 'escort', 'especi', 'espionag', 'establish', 'estat', 'estrang', 'etat', 'etern', 'ethan', 'ethanhawk', 'ethic', 'europ', 'european', 'evacu', 'evad', 'evalu', 'evamend', 'eve', 'event', 'events', 'eventu', 'eventually', 'everi', 'everybodi', 'everyday', 'everyon', 'everyth', 'evid', 'evil', 'evilcorpor', 'evolut', 'evolv', 'ewanmcgregor', 'ex', 'exact', 'exactli', 'exchang', 'excit', 'excus', 'execut', 'exhibit', 'exil', 'exist', 'existence', 'exot', 'exoticisland', 'expect', 'expected', 'expedit', 'expend', 'expens', 'experi', 'experienc', 'experiment', 'expert', 'expertis', 'explain', 'explod', 'explodingbuild', 'explodinghous', 'exploit', 'explor', 'explos', 'expos', 'express', 'exsoldi', 'extend', 'extermin', 'extinction', 'extramaritalaffair', 'extraordinari', 'extraterrestri', 'extraterrestrialtechnolog', 'extravag', 'extrem', 'extremeviol', 'eye', 'eyes', 'fabl', 'fac', 'face', 'facil', 'facility', 'fact', 'faction', 'factori', 'fade', 'fail', 'fails', 'fairi', 'fairy', 'fairytal', 'faith', 'fake', 'fakeident', 'falcon', 'fall', 'fallen', 'fallinginlov', 'fals', 'falsehistori', 'falseident', 'falselyaccus', 'fame', 'famili', 'family', 'familyrelationship', 'familyvac', 'famin', 'famkejanssen', 'famou', 'fan', 'fanat', 'fangvamp', 'fantasi', 'fantasia', 'fantast', 'fantasyworld', 'far', 'farm', 'farmer', 'farmers', 'farther', 'fascin', 'fashion', 'fast', 'faster', 'fastest', 'fat', 'fatal', 'fate', 'father', 'fatherdaughterrelationship', 'fatherfigur', 'fathersonrelationship', 'favorit', 'fbi', 'fbiagent', 'fear', 'fearless', 'fears', 'fearsom', 'featur', 'fed', 'feder', 'feed', 'feel', 'feet', 'felin', 'felix', 'fellow', 'fellowship', 'femal', 'female', 'femalefriendship', 'femalenud', 'femaleprotagonist', 'fend', 'feralchild', 'feroci', 'fester', 'festiv', 'feud', 'fi', 'fiance', 'fiancé', 'fiction', 'fictionalgovernmentag', 'fictionalplac', 'fictionalwar', 'fictitiousmarriag', 'field', 'fierc', 'fifth', 'fight', 'fighter', 'figur', 'figure', 'fil', 'file', 'film', 'filmdirector', 'filmmak', 'filmproduc', 'films', 'final', 'financ', 'financi', 'finest', 'finish', 'finn', 'fiona', 'firearm', 'firemen', 'firework', 'firm', 'fish', 'fisherman', 'fistfight', 'fit', 'fix', 'flame', 'flashback', 'flat', 'flee', 'flesh', 'fli', 'flight', 'flint', 'flirt', 'flood', 'florida', 'florist', 'flower', 'fly', 'flyingsauc', 'flynn', 'focu', 'focus', 'foe', 'foil', 'follow', 'food', 'fool', 'foot', 'footbal', 'footchas', 'forbidden', 'forbiddenlov', 'forc', 'force', 'forces', 'ford', 'forens', 'forest', 'forestwhitak', 'forev', 'forever', 'forg', 'forget', 'forgiv', 'form', 'formerli', 'formid', 'formula', 'forrest', 'fortress', 'fortun', 'fortune', 'fortunetel', 'foster', 'fought', 'fountain', 'fourteen', 'fourth', 'fox', 'fragil', 'frame', 'framedformurd', 'franc', 'france', 'francesmcdormand', 'franceso', 'franchise', 'francisco', 'francisfordcoppola', 'francislawr', 'frank', 'frankcoraci', 'frankdarabont', 'frankenstein', 'franki', 'frankie', 'frankiemuniz', 'franklangella', 'frankmarshal', 'frankoz', 'frantic', 'fratern', 'fraud', 'freak', 'fred', 'freddiehighmor', 'freddieprinzejr', 'free', 'freed', 'freedom', 'freedomfight', 'freeman', 'freez', 'french', 'frequent', 'fresh', 'friend', 'friendli', 'friends', 'friendship', 'frighten', 'frodo', 'frog', 'frost', 'frustrat', 'fu', 'fuel', 'fugit', 'fulfil', 'fullest', 'fulli', 'fun', 'fund', 'funer', 'funeral', 'furiou', 'futur', 'future', 'futurist', 'fword', 'ga', 'gabriel', 'gabrielbyrn', 'gabrielemuccino', 'gabrielmacht', 'gadget', 'gain', 'galact', 'galaxi', 'galaxy', 'gale', 'gambl', 'gambler', 'gamblingdebt', 'game', 'games', 'gandalf', 'gang', 'gangs', 'gangster', 'gangsterboss', 'garag', 'garbag', 'garden', 'garfield', 'gargamel', 'gari', 'garrett', 'garretthedlund', 'garrymarshal', 'garyfled', 'garygray', 'garyoldman', 'garyross', 'garysinis', 'garywinick', 'gasstat', 'gate', 'gather', 'gauntlet', 'gave', 'gavinhood', 'gavino', 'gay', 'gear', 'geenadavi', 'gemmaarterton', 'gen', 'genarowland', 'gene', 'genehackman', 'gener', 'general', 'generation', 'genet', 'geneticengin', 'geniu', 'genius', 'geoffreyrush', 'georg', 'george', 'georgeclooney', 'georgeluca', 'georgemil', 'georgep', 'georgetillman', 'georgia', 'geppetto', 'gerardbutl', 'german', 'germani', 'germans', 'germany', 'ghost', 'giant', 'giantrobot', 'gift', 'gig', 'giovanniribisi', 'girl', 'girlfriend', 'given', 'gladiat', 'glass', 'glennclos', 'global', 'globe', 'gnostic', 'goal', 'god', 'goe', 'gold', 'golden', 'goldiehawn', 'golf', 'gone', 'gong', 'gongli', 'good', 'goodandbad', 'goodvsevil', 'gordon', 'gore', 'goreverbinski', 'gorgeou', 'gorilla', 'got', 'gotham', 'gothamc', 'govern', 'government', 'governor', 'grace', 'gracey', 'gradual', 'graduat', 'graham', 'grand', 'grandfath', 'grandmoth', 'granni', 'grant', 'graphic', 'grave', 'great', 'greatdepress', 'greater', 'greatest', 'greec', 'greed', 'greedi', 'greek', 'greekmytholog', 'green', 'greg', 'gregkinnear', 'gregoryhoblit', 'gretel', 'grew', 'grey', 'griev', 'griffin', 'grim', 'grimm', 'grinch', 'grip', 'grizzlybear', 'groceri', 'ground', 'group', 'groupoffriend', 'grow', 'grown', 'grows', 'gruesom', 'gu', 'guard', 'guardian', 'guerrilla', 'guest', 'guid', 'guidanc', 'guillaumecanet', 'guillermodeltoro', 'guilt', 'guitar', 'gulf', 'gulfwar', 'gumsho', 'gun', 'gunfight', 'gunsling', 'gunviol', 'guru', 'guy', 'guypearc', 'guyritchi', 'guys', 'gwen', 'gwynethpaltrow', 'gym', 'gypsi', 'gérarddepardieu', 'ha', 'habitat', 'hack', 'hacker', 'hade', 'haileesteinfeld', 'hair', 'hal', 'haleyjoelos', 'half', 'halfway', 'hall', 'halleberri', 'halloween', 'hallucin', 'hammond', 'han', 'hand', 'handl', 'hands', 'handsom', 'handtohandcombat', 'hang', 'hangov', 'hankazaria', 'hanna', 'hannah', 'hansel', 'happen', 'happens', 'happi', 'happili', 'happiness', 'happy', 'har', 'hara', 'harass', 'harbor', 'hard', 'harden', 'harder', 'harlem', 'harold', 'haroldbeck', 'haroldrami', 'harri', 'harrison', 'harrisonford', 'harry', 'hart', 'harvard', 'harvey', 'hasn', 'hatch', 'hate', 'hatr', 'haunt', 'hauntedhous', 'haven', 'havoc', 'hawaii', 'haydenchristensen', 'head', 'heal', 'hear', 'heart', 'heathergraham', 'heathledg', 'heaven', 'heavi', 'heavili', 'heir', 'heiress', 'heirtothethron', 'heist', 'held', 'helen', 'helenabonhamcart', 'helenhunt', 'helicopt', 'hell', 'help', 'helpless', 'henri', 'hero', 'heroes', 'heroic', 'heroin', 'heroism', 'hi', 'hid', 'hidden', 'hiddencamera', 'hide', 'hidingplac', 'high', 'highli', 'highly', 'highschool', 'highway', 'hijack', 'hilari', 'hilaryswank', 'hill', 'himalaya', 'hip', 'hippi', 'hire', 'hiroyukisanada', 'histor', 'histori', 'historicalfigur', 'history', 'hit', 'hitch', 'hitman', 'ho', 'hobbit', 'hockey', 'hogwart', 'hogwarts', 'hold', 'hole', 'holi', 'holiday', 'holland', 'hollow', 'hollywood', 'hologram', 'holygrail', 'home', 'homeinvas', 'homeland', 'homeless', 'homelessperson', 'homer', 'hometown', 'homicid', 'homicidedetect', 'honey', 'honeymoon', 'hong', 'honor', 'hood', 'hoodlum', 'hook', 'hoover', 'hop', 'hope', 'hopedavi', 'hopper', 'hord', 'horribl', 'horrif', 'horrifi', 'horror', 'hors', 'horse', 'horsebackrid', 'horserac', 'hospit', 'hospital', 'host', 'hostag', 'hostage', 'hostagedrama', 'hostages', 'hostil', 'hot', 'hotel', 'hotelroom', 'hotshot', 'hound', 'hour', 'hours', 'hous', 'house', 'household', 'howard', 'howev', 'hudson', 'huge', 'hugh', 'hughgrant', 'hughjackman', 'hughlauri', 'hugo', 'hulk', 'human', 'humanexperiment', 'humanity', 'humankind', 'humans', 'humansubjug', 'humili', 'humor', 'hundr', 'hunger', 'hungri', 'hunt', 'hunted', 'hunter', 'hunters', 'huntsman', 'hurley', 'hurrican', 'hurtl', 'husband', 'husbandex', 'hybrid', 'hyena', 'hypnosi', 'hypnot', 'hyun', 'iainsoftley', 'ianholm', 'ianmckellen', 'ianmcshan', 'ice', 'iceag', 'iceberg', 'icecub', 'icehockey', 'icon', 'idea', 'ideal', 'idealist', 'ident', 'identifi', 'identity', 'identitycrisi', 'idol', 'idriselba', 'idyl', 'ignit', 'ignor', 'ii', 'iii', 'ike', 'il', 'ill', 'illeg', 'illegaldrug', 'illegalimmigr', 'illegalprostitut', 'illness', 'illuminati', 'illus', 'imag', 'imagin', 'imaginari', 'imaginaryfriend', 'imagination', 'imagined', 'imax', 'imf', 'immedi', 'immens', 'immigr', 'immort', 'immortality', 'impact', 'impend', 'imperi', 'imperson', 'implant', 'import', 'imposs', 'impostor', 'impress', 'imprison', 'inadvert', 'inanimateobjectscomingtolif', 'incarcer', 'incid', 'includ', 'increas', 'increasingli', 'incred', 'independ', 'independentfilm', 'india', 'indian', 'indiana', 'indianajon', 'individu', 'industri', 'industry', 'inexplic', 'infam', 'infant', 'infect', 'infest', 'infidel', 'infiltr', 'inflict', 'influenc', 'influenti', 'inform', 'inhabit', 'inherit', 'initi', 'inject', 'injur', 'inmat', 'inner', 'innoc', 'innocence', 'insan', 'insid', 'inside', 'insight', 'insist', 'insomnia', 'inspector', 'inspir', 'instal', 'instant', 'instantli', 'instead', 'instinct', 'instruct', 'instructor', 'insur', 'insurg', 'intellig', 'intend', 'intens', 'intent', 'intergalact', 'intern', 'internet', 'interpol', 'interrog', 'interspeciesrom', 'intertwin', 'interview', 'intimid', 'intrigu', 'introduc', 'invad', 'invaders', 'invas', 'invent', 'inventor', 'investig', 'invinc', 'invis', 'invisibleman', 'invit', 'involv', 'ip', 'ira', 'iraq', 'irish', 'island', 'isn', 'isol', 'isra', 'itali', 'italian', 'ivanreitman', 'jack', 'jackblack', 'jacki', 'jackiechan', 'jacknicholson', 'jackryan', 'jackson', 'jacob', 'jacquesperrin', 'jade', 'jail', 'jake', 'jakegyllenha', 'jame', 'james', 'jamescaan', 'jamescameron', 'jamescromwel', 'jamesfranco', 'jamesmangold', 'jamesmarsden', 'jamesmcavoy', 'jamesmcteigu', 'jamesspad', 'jameswong', 'jameswood', 'jamiebel', 'jamiefoxx', 'jamieleecurti', 'jandebont', 'jane', 'janeiro', 'japan', 'japanes', 'japanese', 'jason', 'jasonbateman', 'jasonbigg', 'jasonclark', 'jasonflemyng', 'jasonisaac', 'jasonle', 'jasonsegel', 'jasonstatham', 'jasonsudeiki', 'jaumecollet', 'javierbardem', 'jay', 'jaybaruchel', 'jayroach', 'jazz', 'jealousi', 'jean', 'jeanreno', 'jedi', 'jeff', 'jeffbridg', 'jeffdaniel', 'jeffgoldblum', 'jeffreydeanmorgan', 'jeffreywright', 'jenko', 'jenna', 'jenniferaniston', 'jenniferconnelli', 'jennifergarn', 'jenniferjasonleigh', 'jenniferlawr', 'jenniferlopez', 'jenniferlovehewitt', 'jennifertilli', 'jeremyiron', 'jeremyrenn', 'jerri', 'jersey', 'jess', 'jessebradford', 'jesseeisenberg', 'jessicaalba', 'jessicabiel', 'jessicachastain', 'jessicalang', 'jetli', 'jew', 'jewel', 'jewish', 'jigsaw', 'jill', 'jillian', 'jim', 'jimbroadb', 'jimcarrey', 'jimcaviezel', 'jimmi', 'jimsheridan', 'jimsturgess', 'joanallen', 'joanchen', 'joancusack', 'joaquinphoenix', 'job', 'jobinterview', 'jodiefost', 'joe', 'joedant', 'joejohnston', 'joel', 'joelcoen', 'joeledgerton', 'joelkinnaman', 'joelschumach', 'joepesci', 'joewright', 'john', 'johnc', 'johncarpent', 'johncusack', 'johnfrankenheim', 'johnglen', 'johngoodman', 'johnhurt', 'johnkrasinski', 'johnlasset', 'johnleehancock', 'johnleguizamo', 'johnlithgow', 'johnlon', 'johnmalkovich', 'johnmctiernan', 'johnmiliu', 'johnmoor', 'johnni', 'johnnydepp', 'johnsingleton', 'johnson', 'johntravolta', 'johnturturro', 'johnwhitesel', 'johnwoo', 'join', 'joker', 'jon', 'jonah', 'jonahhil', 'jonathan', 'jonathanfrak', 'jonathanliebesman', 'jonathanmostow', 'jonathanpryc', 'jonavnet', 'jone', 'jones', 'jonfavreau', 'jonm', 'jonnyleemil', 'jonturteltaub', 'jonvoight', 'jordan', 'joseph', 'josephfienn', 'josephgordon', 'josh', 'joshbrolin', 'joshduhamel', 'joshhartnett', 'joshhutcherson', 'joshluca', 'josswhedon', 'journal', 'journalist', 'journey', 'journeyroundtheworld', 'joy', 'jr', 'juan', 'juddapatow', 'judelaw', 'judg', 'judge', 'judgment', 'judidench', 'judydavi', 'juli', 'juliannemoor', 'juliarobert', 'juliettebinoch', 'jump', 'june', 'jungl', 'jungle', 'juni', 'junior', 'jurassicpark', 'juror', 'just', 'justic', 'justice', 'justinlong', 'justintimberlak', 'kaiju', 'kansa', 'karat', 'karen', 'karlurban', 'kate', 'katebeckinsal', 'katebosworth', 'katehudson', 'katewinslet', 'katherineheigl', 'kathyb', 'katniss', 'kay', 'keanureev', 'keiraknightley', 'kelli', 'kellypreston', 'kenkwapi', 'kennedi', 'kennethbranagh', 'kevin', 'kevinbacon', 'kevincostn', 'kevinhart', 'kevinjam', 'kevinklin', 'kevinspacey', 'key', 'kgb', 'kick', 'kid', 'kidnap', 'kidnapped', 'kids', 'kidsandfamili', 'kiefersutherland', 'kill', 'killed', 'killer', 'killerrobot', 'killers', 'kimbasing', 'kind', 'kindli', 'king', 'kingdom', 'kingpin', 'kirk', 'kirstendunst', 'kiss', 'kit', 'kitai', 'kitchen', 'klein', 'klingon', 'knew', 'knife', 'knight', 'knit', 'knock', 'know', 'knowledg', 'knowledge', 'known', 'kong', 'korean', 'kowalski', 'kriskristofferson', 'kristenbel', 'kristenstewart', 'kristenwiig', 'kristindavi', 'krueger', 'kukluxklan', 'kung', 'kungfu', 'kurt', 'kurtrussel', 'kuwait', 'kuzco', 'kyle', 'kylemaclachlan', 'la', 'lab', 'laboratori', 'lack', 'ladder', 'ladi', 'ladies', 'ladykil', 'laid', 'lake', 'lama', 'land', 'landmin', 'landscap', 'lane', 'lang', 'langleyvirginia', 'languag', 'languagebarri', 'lapd', 'lara', 'larg', 'larger', 'largest', 'larri', 'laser', 'lasergun', 'lassehallström', 'lasvega', 'late', 'later', 'latest', 'laugh', 'launch', 'lauralinney', 'laurenc', 'laurencefishburn', 'lava', 'lavish', 'law', 'lawrenc', 'lawrencekasdan', 'lawyer', 'lax', 'lay', 'lazi', 'le', 'lead', 'leader', 'leadership', 'leaf', 'leagu', 'leapintim', 'learn', 'leatherjacket', 'leathompson', 'leav', 'leavingone', 'lecter', 'led', 'lee', 'leetamahori', 'left', 'leg', 'legal', 'legend', 'legendari', 'legion', 'lego', 'lemur', 'lena', 'lenaheadey', 'length', 'lenni', 'leo', 'leonardnimoy', 'leonardodicaprio', 'leopold', 'lesliemann', 'leslienielsen', 'lesmayfield', 'lesson', 'lessons', 'let', 'lethal', 'lethalviru', 'letter', 'level', 'levitt', 'lewi', 'lex', 'li', 'liaison', 'liamhemsworth', 'liamneeson', 'liar', 'liber', 'liberationofhostag', 'liberationofprison', 'librari', 'libya', 'lie', 'lieuten', 'lievschreib', 'lif', 'life', 'lifeanddeath', 'lifelong', 'lifestyl', 'lifestyle', 'lifetim', 'lifetime', 'lift', 'light', 'lightn', 'lik', 'like', 'lilith', 'lillywachowski', 'lilycollin', 'limit', 'lincoln', 'linda', 'lindahamilton', 'lindsaylohan', 'lindsey', 'line', 'lines', 'link', 'lion', 'lisa', 'lisakudrow', 'list', 'liter', 'literatur', 'littl', 'littleboy', 'littlegirl', 'live', 'liveactionandanim', 'lives', 'living', 'liz', 'lizzycaplan', 'll', 'llcoolj', 'lo', 'loan', 'local', 'locat', 'lock', 'logan', 'loganlerman', 'london', 'londonengland', 'lone', 'loner', 'long', 'longer', 'longtim', 'look', 'loop', 'loos', 'loose', 'loot', 'lord', 'losangel', 'lose', 'loss', 'lossofbroth', 'lossofchild', 'lossoffamili', 'lossoffath', 'lossofhusband', 'lossoflov', 'lossofmoth', 'lossofson', 'lossofwif', 'lost', 'lot', 'loui', 'louisiana', 'louisleterri', 'lov', 'love', 'loveatfirstsight', 'loved', 'lovelett', 'loveofone', 'lover', 'loves', 'lovesick', 'lovetriangl', 'low', 'loyal', 'loyalti', 'lt', 'luc', 'luca', 'lucbesson', 'luci', 'luck', 'lucki', 'lucy', 'lucyliu', 'luke', 'lukewilson', 'lure', 'luthor', 'luxuri', 'lycan', 'ma', 'machin', 'machine', 'machinegun', 'mad', 'madagascar', 'madeleinestow', 'madonna', 'madscientist', 'mafia', 'mafiaboss', 'magazin', 'maggi', 'maggie', 'maggiegrac', 'magic', 'magicalobject', 'magician', 'magneto', 'magnific', 'maid', 'maiden', 'main', 'maintain', 'major', 'mak', 'make', 'maker', 'mako', 'malcolm', 'malcolmd', 'male', 'malefemalerelationship', 'malefic', 'malefriendship', 'malenud', 'malfunct', 'malibu', 'malici', 'malinåkerman', 'mammoth', 'man', 'manag', 'mandela', 'mandymoor', 'manech', 'manhattan', 'manhunt', 'mani', 'maniac', 'manipul', 'mankind', 'mann', 'manner', 'manni', 'mansion', 'manufactur', 'manvsmachin', 'map', 'mar', 'marcforst', 'march', 'marciagayharden', 'marclawr', 'marco', 'marcu', 'marcus', 'margotrobbi', 'mari', 'maria', 'mariabello', 'marijuana', 'marin', 'marinecorp', 'marioncotillard', 'marisa', 'marisatomei', 'mark', 'markdind', 'market', 'markruffalo', 'markstrong', 'markwahlberg', 'markwat', 'marlonbrando', 'marlonwayan', 'marri', 'marriag', 'marriage', 'marriagecrisi', 'marriagepropos', 'married', 'marriedcoupl', 'marry', 'mars', 'marsh', 'marshal', 'marti', 'martial', 'martialart', 'martian', 'martin', 'martinbrest', 'martincampbel', 'martinfreeman', 'martinlandau', 'martinlawr', 'martinscorses', 'martinsheen', 'martinson', 'marty', 'marvelcinematicunivers', 'marvelcom', 'mary', 'marysteenburgen', 'mask', 'maskedvigilant', 'mass', 'massachusett', 'massiv', 'massmurd', 'master', 'mastermind', 'masters', 'masterthief', 'match', 'mate', 'mater', 'materi', 'mathieukassovitz', 'mathild', 'matrix', 'matt', 'mattdamon', 'mattdillon', 'matter', 'matteroflifeanddeath', 'matthew', 'matthewbroderick', 'matthewfox', 'matthewlillard', 'matthewmcconaughey', 'matthewperri', 'matthewvaughn', 'matur', 'maverick', 'max', 'maximu', 'maxvonsydow', 'maxwel', 'maya', 'mayacivil', 'mayb', 'mayor', 'maze', 'mccall', 'mcclane', 'mcdonagh', 'mcg', 'mcnamara', 'mcphee', 'mcqueen', 'mean', 'meaning', 'meant', 'meanwhil', 'mechan', 'medal', 'medallion', 'media', 'medic', 'medicalexamin', 'medicalresearch', 'medicin', 'mediev', 'meet', 'meg', 'megan', 'meganfox', 'megryan', 'mekhiphif', 'melani', 'melgibson', 'melissamccarthi', 'melman', 'melvin', 'member', 'members', 'memoir', 'memori', 'memories', 'memory', 'memoryloss', 'men', 'menac', 'mental', 'mentalinstitut', 'mentallydis', 'mentor', 'mephisto', 'mercenari', 'mercenaries', 'merci', 'merciless', 'mere', 'merger', 'mermaid', 'merrin', 'merylstreep', 'messag', 'met', 'meteor', 'method', 'metro', 'mexican', 'mexicanstandoff', 'mexico', 'mi6', 'miami', 'mib', 'michael', 'michaelapt', 'michaelbay', 'michaelcain', 'michaelcaton', 'michaeldougla', 'michaelfassbend', 'michaelj', 'michaelkeaton', 'michaelmann', 'michel', 'michellemonaghan', 'michellepfeiff', 'michellerodriguez', 'mid', 'middl', 'middle', 'middleag', 'middleeast', 'midlifecrisi', 'midst', 'midwest', 'mighti', 'mike', 'mikemy', 'mikenewel', 'mikenichol', 'milakuni', 'mild', 'mile', 'miley', 'militari', 'millajovovich', 'miller', 'million', 'millionair', 'milo', 'mind', 'mindcontrol', 'miner', 'ming', 'minion', 'minor', 'minut', 'miracl', 'miracul', 'mirror', 'mischiev', 'miser', 'misfit', 'mismatch', 'miss', 'missil', 'missing', 'missingperson', 'mission', 'missionofmurd', 'mississippi', 'mistak', 'mistakeinperson', 'mistaken', 'mistakenident', 'mistress', 'mitch', 'mix', 'mob', 'mobilephon', 'mobster', 'mockumentari', 'model', 'modern', 'mole', 'mom', 'moment', 'momma', 'monaco', 'money', 'moneylaund', 'monicabellucci', 'monitor', 'monk', 'monkey', 'monster', 'monsters', 'monstrou', 'montana', 'month', 'monument', 'moon', 'moonlight', 'moor', 'moral', 'moraldilemma', 'morgan', 'morganfreeman', 'morgu', 'morn', 'morrischestnut', 'mortal', 'moscow', 'mose', 'mossad', 'mostli', 'motel', 'mother', 'motherdaughterrelationship', 'motherlylov', 'motherrol', 'mothersonrelationship', 'motion', 'motiv', 'motor', 'motorcycl', 'mount', 'mountain', 'mountainclimb', 'mountains', 'mous', 'mouse', 'mouth', 'movement', 'movi', 'movie', 'movieinmovi', 'movies', 'moviestar', 'mr', 'mrs', 'mulder', 'mule', 'multipl', 'multiplestorylin', 'munich', 'munit', 'muppet', 'murder', 'murdered', 'murderhunt', 'murphi', 'murray', 'murrayabraham', 'murtaugh', 'museum', 'music', 'musicband', 'musician', 'musicrecord', 'musket', 'muslim', 'mut', 'mutant', 'mutants', 'mutat', 'mutini', 'mutual', 'mysteri', 'mystery', 'mystic', 'myth', 'mythic', 'mythicalcreatur', 'mytholog', 'mérida', 'nail', 'naiv', 'nam', 'nanci', 'nancymey', 'nanni', 'naomiwatt', 'napoleon', 'narcot', 'narnia', 'narrat', 'nasa', 'nascar', 'nash', 'nasti', 'natalieportman', 'natashahenstridg', 'nathan', 'nation', 'nationalsecurityagency', 'nations', 'nativ', 'nativeamerican', 'natur', 'naturaldisast', 'nature', 'naughti', 'naval', 'navi', 'navig', 'navy', 'navys', 'nawen', 'nazi', 'nba', 'near', 'nearli', 'neck', 'nedbeatti', 'need', 'nefari', 'negoti', 'neighbor', 'neighborhood', 'neiljordan', 'nelson', 'nemesi', 'nemesis', 'neo', 'nephew', 'nerd', 'nerdi', 'nest', 'network', 'nevada', 'neverland', 'nevil', 'new', 'newborn', 'newfound', 'newident', 'newli', 'newlov', 'neworlean', 'news', 'newsman', 'newspap', 'newt', 'newyear', 'newyork', 'newyorkc', 'nfl', 'nice', 'nicholashoult', 'nicholasstol', 'nick', 'nickcassavet', 'nicki', 'nicknolt', 'nicolascag', 'nicolekidman', 'niec', 'night', 'nightclub', 'nightmar', 'nightshyamalan', 'nightstand', 'ninja', 'noah', 'nobl', 'noir', 'non', 'noopeningcredit', 'normal', 'norman', 'north', 'northern', 'nose', 'noth', 'notic', 'notori', 'novel', 'nowher', 'nuclear', 'nuclearmissil', 'nuditi', 'number', 'nurs', 'nypd', 'object', 'obscur', 'obsess', 'obsession', 'obstacl', 'obtain', 'occult', 'occupi', 'occur', 'ocean', 'odd', 'odds', 'offer', 'offic', 'office', 'officer', 'offici', 'ogr', 'oil', 'old', 'older', 'oliv', 'oliverplatt', 'oliverston', 'oliviawild', 'olymp', 'olympicgam', 'omnicorp', 'onc', 'onemanarmi', 'onli', 'ontheroad', 'ontherun', 'op', 'open', 'oper', 'opera', 'operation', 'operative', 'opportun', 'oppos', 'opposit', 'oppress', 'orbit', 'orc', 'orchestr', 'order', 'ordinari', 'organ', 'organizedcrim', 'origin', 'orlandobloom', 'orphan', 'orphanag', 'orphanage', 'otherworldli', 'outbreak', 'outcast', 'outerspac', 'outlaw', 'outrag', 'outsid', 'outwit', 'overcom', 'overrun', 'owen', 'owenwilson', 'owl', 'owner', 'oz', 'pacif', 'pack', 'pact', 'page', 'paid', 'paig', 'pain', 'paint', 'pair', 'pal', 'palac', 'pam', 'pan', 'panda', 'pandem', 'pandora', 'panic', 'panzer', 'paper', 'paradis', 'paradise', 'parallelworld', 'paranoia', 'paranormalphenomena', 'parent', 'parents', 'parentskidsrelationship', 'pari', 'paris', 'park', 'parker', 'parodi', 'parrish', 'parrot', 'parti', 'particip', 'particularli', 'partner', 'partners', 'partnership', 'party', 'pass', 'passeng', 'passion', 'passport', 'past', 'path', 'patient', 'patrick', 'patrickstewart', 'paul', 'paulapatton', 'paulbettani', 'paulfeig', 'paulgiamatti', 'paulgreengrass', 'paulrudd', 'paulthomasanderson', 'paulverhoeven', 'paulw', 'paulwalk', 'pawn', 'pay', 'peac', 'peace', 'peasant', 'pen', 'penguin', 'penguins', 'penn', 'pennsylvania', 'penélopecruz', 'peopl', 'people', 'perci', 'perfect', 'perform', 'peril', 'period', 'perioddrama', 'perman', 'perseu', 'persian', 'person', 'persuad', 'peru', 'pet', 'peter', 'peterberg', 'peterchelsom', 'peterhyam', 'peterjackson', 'petersarsgaard', 'peterseg', 'petrol', 'petti', 'phil', 'philipseymourhoffman', 'phillip', 'phillipnoyc', 'phillord', 'philosophi', 'photo', 'photograph', 'photographi', 'physic', 'physician', 'pianist', 'piano', 'picard', 'pick', 'pickpocket', 'pictur', 'piec', 'pier', 'piercebrosnan', 'pierrejeunet', 'pig', 'piglet', 'pilot', 'pinocchio', 'piperperabo', 'pirat', 'pistol', 'pit', 'place', 'plagu', 'plan', 'plane', 'planet', 'plans', 'plant', 'plantat', 'platon', 'play', 'playboy', 'player', 'pleasur', 'pledg', 'plot', 'plung', 'po', 'poet', 'poetri', 'point', 'poison', 'poker', 'polar', 'polic', 'police', 'policebrut', 'policechas', 'policeman', 'policeoffic', 'policeoper', 'polit', 'politician', 'pollut', 'ponyo', 'pool', 'poor', 'pop', 'popstar', 'popul', 'popular', 'population', 'portal', 'porter', 'pose', 'poseidon', 'possess', 'possibl', 'post', 'potenti', 'potter', 'pound', 'poverti', 'pow', 'power', 'powerful', 'powers', 'prais', 'pre', 'preciou', 'predat', 'predict', 'pregnanc', 'pregnancyandbirth', 'pregnant', 'prehistor', 'prehistorictim', 'prejudic', 'premonit', 'prepar', 'prequel', 'presenc', 'present', 'presid', 'president', 'presidenti', 'presidentialelect', 'press', 'pressconfer', 'pressur', 'pretend', 'prevent', 'previou', 'prey', 'priceless', 'pride', 'priest', 'prime', 'princ', 'prince', 'princess', 'prior', 'prison', 'prisoncel', 'prisonersofwar', 'privat', 'privatedetect', 'prize', 'pro', 'problem', 'problems', 'process', 'prodigi', 'produc', 'product', 'production', 'productplac', 'profession', 'professor', 'profil', 'program', 'project', 'promin', 'promis', 'promot', 'prompt', 'promptli', 'properti', 'propheci', 'prosecut', 'prospect', 'prostitut', 'protect', 'protector', 'protest', 'prove', 'provid', 'psychiatr', 'psychiatrist', 'psychic', 'psycholog', 'psychologist', 'psychopath', 'psychot', 'public', 'publish', 'pull', 'puppet', 'puppi', 'pure', 'purpos', 'pursu', 'pursuit', 'push', 'quarantin', 'queen', 'queenlatifah', 'quentin', 'quentintarantino', 'quest', 'question', 'quick', 'quickli', 'quiet', 'quirki', 'quit', 'rabbit', 'rac', 'race', 'raceagainsttim', 'racehors', 'racer', 'rachaelleighcook', 'rachel', 'rachelmcadam', 'rachelweisz', 'racial', 'racialsegreg', 'racism', 'radiat', 'radic', 'radio', 'rag', 'rage', 'rageandh', 'ragtag', 'raid', 'rain', 'rais', 'rajagosnel', 'ralli', 'ralph', 'ralphfienn', 'rambo', 'rampag', 'ranch', 'ranger', 'rank', 'ransom', 'rape', 'rapidli', 'rapmus', 'rapper', 'rare', 'rat', 'rate', 'rath', 'ravag', 'ray', 'rayliotta', 'rayromano', 'reach', 'reacher', 'read', 'readi', 'real', 'realis', 'realiti', 'reality', 'realiz', 'realli', 'realm', 'reaper', 'reason', 'rebel', 'rebelli', 'rebellion', 'reboot', 'rebuild', 'receiv', 'recent', 'reclaim', 'reconcil', 'reconnaiss', 'record', 'recordproduc', 'recov', 'recruit', 'red', 'redempt', 'redemption', 'redneck', 'reesewitherspoon', 'refug', 'refus', 'regain', 'regim', 'reginak', 'regret', 'reign', 'reilli', 'reject', 'relat', 'relationship', 'relationships', 'releas', 'relentless', 'reli', 'religi', 'religion', 'religionandsupernatur', 'reloc', 'reluct', 'reluctantli', 'remain', 'remak', 'rememb', 'remot', 'renegad', 'renerusso', 'rennyharlin', 'renéezellweg', 'repair', 'repay', 'replac', 'report', 'reporter', 'repres', 'reput', 'requir', 'rescu', 'rescuemiss', 'rescueteam', 'research', 'resid', 'resist', 'resolv', 'resort', 'resourc', 'respect', 'respons', 'responsible', 'rest', 'restaur', 'restor', 'result', 'results', 'resurfac', 'resurrect', 'retel', 'retir', 'retriev', 'return', 'reuben', 'reunion', 'reunit', 'reveal', 'revel', 'reveng', 'revenge', 'revolt', 'revolut', 'revolv', 'reward', 'rhode', 'rich', 'richard', 'richardarmitag', 'richarddonn', 'richardger', 'rick', 'rid', 'riddick', 'riddl', 'ride', 'rider', 'ridleyscott', 'rifl', 'rig', 'right', 'rightandjustic', 'riley', 'ring', 'ripley', 'rise', 'risk', 'ritual', 'rival', 'rivalri', 'river', 'road', 'roadmovi', 'roadtrip', 'roam', 'roar', 'rob', 'robber', 'robberi', 'robbrown', 'robcohen', 'robert', 'robertdeniro', 'robertdowneyjr', 'robertduval', 'robertluket', 'robertpattinson', 'robertredford', 'robertrodriguez', 'robertschwentk', 'robertzemecki', 'robin', 'robinson', 'robinwilliam', 'robmarshal', 'robminkoff', 'robot', 'robots', 'robrein', 'rock', 'rockandrol', 'rocket', 'rocki', 'rockstar', 'rod', 'rodrigosantoro', 'roger', 'rogerdonaldson', 'rogermoor', 'rogu', 'rolandemmerich', 'role', 'roll', 'roman', 'romanc', 'romanpolanski', 'romant', 'romanticcomedi', 'rome', 'romulan', 'ron', 'ronhoward', 'ronin', 'ronni', 'ronnyyu', 'roof', 'rooftop', 'rooki', 'room', 'roommat', 'rosamundpik', 'rosariodawson', 'rose', 'rosebyrn', 'ross', 'round', 'rout', 'routin', 'row', 'roy', 'royal', 'royalti', 'rugbi', 'rugrat', 'ruin', 'rule', 'rumor', 'run', 'runaway', 'runner', 'rupertgrint', 'rural', 'ruralset', 'rush', 'russel', 'russell', 'russellcrow', 'russia', 'russian', 'ruthless', 'ryan', 'ryangosl', 'ryanphillipp', 'ryanreynold', 'saber', 'sabotag', 'sachabaroncohen', 'sacr', 'sacrific', 'sadism', 'sadist', 'safari', 'safe', 'safeti', 'safety', 'saga', 'said', 'sail', 'sailor', 'sale', 'salesman', 'salmahayek', 'salt', 'sam', 'samantha', 'sammend', 'samneil', 'samraimi', 'samrockwel', 'samuell', 'samurai', 'samworthington', 'san', 'sand', 'sandrabullock', 'sanfrancisco', 'santa', 'santaclau', 'saoirseronan', 'sapprentic', 'sara', 'sarah', 'sarahjessicapark', 'sarahmichellegellar', 'satan', 'satellit', 'satir', 'savag', 'savannah', 'save', 'savingtheworld', 'savvi', 'say', 'sbook', 'scandal', 'scare', 'scarecrow', 'scari', 'scarlettjohansson', 'scene', 'schedul', 'scheme', 'schizophrenia', 'schmidt', 'scholarship', 'school', 'schoolofwitchcraft', 'sci', 'scienc', 'sciencefict', 'scientif', 'scientist', 'scientists', 'score', 'scotland', 'scott', 'scottglenn', 'scotthick', 'scout', 'scrambl', 'scream', 'screen', 'scroog', 'scubadiv', 'sdailylif', 'sea', 'seal', 'sean', 'seanbean', 'seanconneri', 'seannwilliamscott', 'seanpenn', 'search', 'season', 'seattl', 'sebastian', 'second', 'secret', 'secretag', 'secretari', 'secretident', 'secretintelligenceservic', 'secretli', 'secretlov', 'secretmiss', 'secretorgan', 'secrets', 'secretservic', 'secretsocieti', 'secur', 'security', 'securitycamera', 'securityguard', 'seduc', 'seduct', 'seek', 'seemingli', 'seen', 'seiz', 'sel', 'self', 'selfish', 'selfsacrific', 'sell', 'senat', 'send', 'senior', 'sens', 'sent', 'sentenc', 'sentinel', 'seo', 'separ', 'sequel', 'sergeant', 'seri', 'serial', 'serialkil', 'series', 'seriou', 'serra', 'serum', 'serv', 'servic', 'session', 'set', 'seth', 'sethgreen', 'sethmacfarlan', 'sethrogen', 'settl', 'settler', 'sev', 'seven', 'sever', 'sewer', 'sex', 'sexi', 'sexism', 'sexual', 'shadi', 'shadow', 'shake', 'shakespear', 'shape', 'share', 'shark', 'sharkattack', 'sharltocopley', 'sharonston', 'sharp', 'shatter', 'shaw', 'shawnlevi', 'sheep', 'shelter', 'shepherd', 'sheriff', 'sherman', 'shi', 'shialabeouf', 'shield', 'shift', 'ship', 'shipwreck', 'shock', 'shoe', 'shom', 'shoot', 'shootout', 'shop', 'short', 'shot', 'shotgun', 'showbusi', 'showdown', 'shredder', 'shrek', 'shrink', 'shut', 'shuttl', 'shyness', 'sibl', 'sick', 'sid', 'sidney', 'siennaguillori', 'sight', 'sign', 'signal', 'sigourneyweav', 'silenc', 'silent', 'silver', 'similar', 'simon', 'simonpegg', 'simonwest', 'simpl', 'simultan', 'sin', 'sinc', 'sing', 'singer', 'singl', 'single', 'singlefath', 'singlemoth', 'singlepar', 'sinist', 'sir', 'sister', 'sistersisterrelationship', 'sit', 'site', 'sittingonatoilet', 'situat', 'situation', 'size', 'skateboard', 'skeleton', 'skeptic', 'ski', 'skill', 'skull', 'sky', 'skyscrap', 'slacker', 'slasher', 'slaughter', 'slave', 'slaveri', 'slay', 'sleep', 'sleepi', 'slif', 'slip', 'sloth', 'slowli', 'small', 'smalltown', 'smart', 'smarter', 'smith', 'smithsonian', 'smitten', 'smoke', 'smuggl', 'smuggler', 'smurf', 'snack', 'snake', 'snatch', 'sniper', 'sniperrifl', 'snow', 'snowstorm', 'snowwhit', 'soccer', 'social', 'societi', 'society', 'solar', 'soldi', 'soldier', 'soldiers', 'sole', 'solv', 'somebodi', 'someon', 'someth', 'somewhat', 'somewher', 'son', 'song', 'songwrit', 'soon', 'sophi', 'sorcer', 'sorcerer', 'sorceri', 'soror', 'sort', 'soul', 'south', 'southafrica', 'southern', 'southernusa', 'soviet', 'sovietunion', 'space', 'spacebattl', 'spacecoloni', 'spacecraft', 'spacemarin', 'spacemiss', 'spaceopera', 'spaceship', 'spacetravel', 'spain', 'span', 'spark', 'sparrow', 'speak', 'speci', 'special', 'specialist', 'spectacl', 'spectacular', 'speed', 'spell', 'spencer', 'spend', 'spent', 'spi', 'spice', 'spider', 'spikele', 'spiral', 'spirit', 'split', 'spointofview', 'spongebob', 'spoof', 'sport', 'spot', 'spread', 'spring', 'squad', 'squar', 'squirrel', 'st', 'stack', 'stadium', 'staff', 'stage', 'stak', 'stake', 'stalk', 'stan', 'stand', 'standoff', 'star', 'starfleet', 'stark', 'starship', 'start', 'startl', 'state', 'states', 'station', 'statu', 'stay', 'steal', 'steampunk', 'steel', 'step', 'stepfath', 'stephen', 'stephenherek', 'stephenhopkin', 'stephenrea', 'stepmoth', 'steve', 'stevebuscemi', 'stevecarel', 'stevemartin', 'steven', 'stevenbril', 'stevenseag', 'stevensoderbergh', 'stevenspielberg', 'stewart', 'stir', 'stock', 'stockbrok', 'stolen', 'stone', 'stoneag', 'stop', 'stopmot', 'store', 'stori', 'stories', 'storm', 'story', 'straight', 'strand', 'strang', 'stranger', 'strategi', 'street', 'streetgang', 'streetwis', 'strength', 'stress', 'stretch', 'strike', 'string', 'strip', 'stripclub', 'stripe', 'strive', 'strong', 'stronger', 'strongwoman', 'struggl', 'stu', 'stuart', 'stuck', 'student', 'studi', 'studio', 'stumbl', 'stun', 'stunt', 'style', 'sub', 'subject', 'submachinegun', 'submarin', 'suburban', 'suburbia', 'subway', 'succeed', 'success', 'successful', 'successor', 'sudden', 'suddenli', 'suffer', 'suggest', 'suicid', 'suicideattempt', 'suit', 'suitcas', 'sullivan', 'summer', 'summon', 'sun', 'sunglass', 'super', 'supercomput', 'superhero', 'superheroteam', 'superhuman', 'superhumanstrength', 'superman', 'supermarket', 'supernatur', 'supernaturalpow', 'supernova', 'superpow', 'supervillain', 'suppli', 'support', 'suppos', 'suppressedpast', 'sure', 'surf', 'surfer', 'surgeon', 'surpris', 'surreal', 'surround', 'surveil', 'surviv', 'survival', 'survive', 'survivor', 'susan', 'susansarandon', 'suspect', 'suspens', 'suspicion', 'swap', 'swashbuckl', 'sweep', 'sweet', 'sweetheart', 'swept', 'switch', 'sword', 'swordandsorceri', 'swordfight', 'swordplay', 'sydneypollack', 'sylvesterstallon', 'symbol', 'tabloid', 'tactic', 'tag', 'tail', 'tak', 'taken', 'tale', 'talefigur', 'talent', 'talk', 'talkinganim', 'talkingtoanim', 'tall', 'tank', 'target', 'tarsemsingh', 'task', 'tast', 'tattoo', 'taxi', 'taxidriv', 'taylorhackford', 'taylorkitsch', 'taylorlautn', 'teach', 'teacher', 'teachersandstud', 'team', 'tear', 'tech', 'technolog', 'teen', 'teenag', 'teenagegirl', 'teenagehero', 'teenager', 'teencomedi', 'telekinesi', 'telepathi', 'teleport', 'televis', 'tell', 'templ', 'tens', 'tension', 'teripolo', 'term', 'termin', 'terminalil', 'terrencehoward', 'terribl', 'terrier', 'terrifi', 'territori', 'terror', 'terrorist', 'tess', 'test', 'texa', 'th', 'thailand', 'thandienewton', 'thanksgiv', 'theater', 'theft', 'themselv', 'theori', 'therapist', 'thi', 'thief', 'thiev', 'thing', 'things', 'think', 'thirti', 'thoma', 'thomasjan', 'thor', 'thought', 'thousand', 'threat', 'threaten', 'thrill', 'thriller', 'throne', 'throw', 'thrown', 'thrust', 'thu', 'thunder', 'thwart', 'tibet', 'ticket', 'tide', 'tie', 'tiger', 'tim', 'timallen', 'timburton', 'time', 'timebomb', 'timetravel', 'timhil', 'timothyolyph', 'timrobbin', 'timroth', 'timstori', 'tinafey', 'tini', 'tintin', 'tire', 'titan', 'titl', 'tobeymaguir', 'today', 'todd', 'toddphillip', 'togeth', 'told', 'tolkien', 'tom', 'tomcruis', 'tomhank', 'tomhardi', 'tommi', 'tommyleejon', 'tomshadyac', 'toni', 'tonicollett', 'tonyscott', 'took', 'tooth', 'toretto', 'torn', 'tornado', 'tortur', 'total', 'touch', 'tough', 'toughest', 'tour', 'tournament', 'tower', 'town', 'toxic', 'toy', 'toycomestolif', 'track', 'trade', 'trader', 'traffic', 'tragedi', 'tragedy', 'tragic', 'tragichero', 'trail', 'train', 'trainer', 'traitor', 'transfer', 'transform', 'transplant', 'transport', 'transportofprison', 'transylvania', 'trap', 'traumat', 'travel', 'travis', 'treacher', 'treason', 'treasur', 'treasure', 'treasurehunt', 'treat', 'tree', 'trek', 'tri', 'trial', 'triangl', 'triangle', 'tribe', 'trick', 'trigger', 'trio', 'trip', 'triumph', 'troop', 'tropic', 'troubl', 'trouble', 'truck', 'trucker', 'true', 'trust', 'truth', 'tsunami', 'tunnel', 'turmoil', 'turn', 'turned', 'turner', 'turtl', 'tv', 'tvshow', 'tvstation', 'twice', 'twin', 'twinbroth', 'twist', 'type', 'typic', 'tyrann', 'tyrannosaurusrex', 'tyrant', 'téaleoni', 'ultim', 'ultra', 'umathurman', 'umbrella', 'unabl', 'unawar', 'unbeknownst', 'unchart', 'uncl', 'uncle', 'uncomfort', 'uncov', 'undead', 'undercov', 'undercoverag', 'undercovercop', 'underdog', 'undergo', 'underground', 'understand', 'underwat', 'underworld', 'unemploy', 'unexpect', 'unexpectedli', 'unfortun', 'unfortunately', 'unhappi', 'unimagin', 'union', 'uniqu', 'unit', 'univers', 'universe', 'unknown', 'unleash', 'unless', 'unlik', 'unlikelyfriendship', 'unlock', 'unorthodox', 'unpreced', 'unpredict', 'unravel', 'unscrupul', 'unstopp', 'unsuspect', 'unusu', 'unveil', 'unwelcom', 'unwit', 'unwittingli', 'upper', 'upperclass', 'upris', 'uprobberi', 'upset', 'upsid', 'uptight', 'urban', 'urg', 'ursula', 'usa', 'usapresid', 'use', 'uss', 'ussenterprise', 'usual', 'utah', 'utopia', 'vacat', 'vacation', 'vader', 'valentine', 'valeri', 'valerie', 'valiant', 'valkilm', 'valley', 'valu', 'valuabl', 'vampir', 'vampire', 'vampirehunt', 'vampires', 'van', 'vandal', 'vanessa', 'vanish', 'vaniti', 'varieti', 'variou', 'vast', 'vatican', 'vega', 'vegas', 'vegetarian', 'veng', 'vengeanc', 'vengeance', 'venic', 'ventur', 'verafarmiga', 'verg', 'veri', 'version', 'veteran', 'veterinarian', 'vichi', 'viciou', 'victim', 'victims', 'victor', 'victori', 'victoria', 'victorian', 'video', 'videogam', 'videotap', 'vienna', 'vietnam', 'vietnamveteran', 'vietnamwar', 'view', 'viewer', 'viggomortensen', 'vigilant', 'vike', 'viktor', 'villag', 'village', 'villai', 'villain', 'vincevaughn', 'vindiesel', 'vineyard', 'vingrham', 'viola', 'violenc', 'violent', 'violet', 'virgil', 'virgin', 'virginia', 'virginiamadsen', 'virtual', 'virtualr', 'viru', 'virus', 'vision', 'visit', 'visitor', 'vital', 'vitti', 'vlad', 'voic', 'voiceov', 'volcanicerupt', 'volcano', 'volcanologist', 'voldemort', 'volunt', 'vomit', 'von', 'voodoo', 'voraci', 'vow', 'voyag', 'voyage', 'vs', 'vulcan', 'wa', 'wacki', 'wade', 'wage', 'wai', 'wait', 'waitress', 'wake', 'walk', 'walken', 'walker', 'walkietalki', 'wall', 'wallet', 'walt', 'waltbeck', 'walter', 'wang', 'want', 'war', 'waragainstterror', 'warcrim', 'warhead', 'warlord', 'warn', 'warondrug', 'warren', 'warrenbeatti', 'warrior', 'warship', 'wash', 'washington', 'washingtond', 'wasn', 'wast', 'wasteland', 'watch', 'watching', 'water', 'watson', 'wave', 'wax', 'way', 'ways', 'weak', 'wealth', 'wealthi', 'wealthy', 'weapon', 'wear', 'weari', 'weather', 'weav', 'weaver', 'web', 'webcam', 'website', 'wed', 'wedding', 'week', 'weekend', 'weekli', 'weigh', 'welcom', 'went', 'werewolf', 'wesanderson', 'wesbentley', 'wescraven', 'wesley', 'wesleysnip', 'west', 'western', 'whale', 'wheelchair', 'whi', 'whip', 'whisk', 'white', 'whitehous', 'whoopigoldberg', 'wick', 'widow', 'wif', 'wife', 'wifehusbandrelationship', 'wil', 'wild', 'wilder', 'wildlif', 'willarnett', 'willemdafo', 'willferrel', 'william', 'williamshatn', 'willpatton', 'willsmith', 'wilson', 'win', 'wind', 'wing', 'winner', 'winning', 'winonaryd', 'winter', 'wipe', 'wise', 'wisecrack', 'wish', 'wit', 'witch', 'witchcraft', 'witches', 'witchhunt', 'witnessprotect', 'witnesstomurd', 'witwicki', 'wizard', 'wizardri', 'wolf', 'wolfgangpetersen', 'wolfman', 'woman', 'womandirector', 'womanrel', 'women', 'won', 'wonder', 'wonderland', 'woo', 'wood', 'woodi', 'woods', 'woodsboro', 'woody', 'woodyallen', 'woodyharrelson', 'word', 'work', 'workahol', 'worker', 'world', 'worlds', 'worldwari', 'worldwarii', 'worldwid', 'worri', 'wors', 'worse', 'worship', 'worst', 'worth', 'wound', 'wreak', 'wrestl', 'wretch', 'write', 'writer', 'written', 'wrong', 'wwii', 'wyom', 'xavier', 'xenomorph', 'xenophobia', 'yacht', 'yakuza', 'yard', 'year', 'yearn', 'years', 'yoda', 'yoga', 'yogi', 'york', 'young', 'youngadult', 'younger', 'youngest', 'youngster', 'youth', 'yuppi', 'zacefron', 'zacharyquinto', 'zachgalifianaki', 'zacksnyd', 'zebra', 'zeta', 'zeu', 'zeus', 'zhangyim', 'zhangziyi', 'zion', 'zoe', 'zoesaldana', 'zombi', 'zombieapocalyps', 'zombies', 'zoo', 'zooey', 'zooeydeschanel', 'zookeep']\n"
     ]
    }
   ],
   "source": [
    "print(list(cv.get_feature_names_out()))"
   ]
  },
  {
   "cell_type": "code",
   "execution_count": 46,
   "id": "b276c4d3",
   "metadata": {},
   "outputs": [],
   "source": [
    "from sklearn.metrics.pairwise import cosine_similarity\n",
    "similarity = cosine_similarity(vectors)"
   ]
  },
  {
   "cell_type": "code",
   "execution_count": 47,
   "id": "927240c3",
   "metadata": {},
   "outputs": [
    {
     "data": {
      "text/plain": [
       "array([0.07610194, 1.        , 0.05812382, ..., 0.02302046, 0.        ,\n",
       "       0.03504998])"
      ]
     },
     "execution_count": 47,
     "metadata": {},
     "output_type": "execute_result"
    }
   ],
   "source": [
    "similarity[1]"
   ]
  },
  {
   "cell_type": "code",
   "execution_count": 48,
   "id": "42297c43",
   "metadata": {},
   "outputs": [
    {
     "data": {
      "text/plain": [
       "119"
      ]
     },
     "execution_count": 48,
     "metadata": {},
     "output_type": "execute_result"
    }
   ],
   "source": [
    "df[df['title'] == 'Batman Begins'].index[0]"
   ]
  },
  {
   "cell_type": "code",
   "execution_count": 49,
   "id": "38884299",
   "metadata": {},
   "outputs": [],
   "source": [
    "def recommend(movie):\n",
    "    movie_index = df[df['title'] == movie].index[0]\n",
    "    distances = similarity[movie_index]\n",
    "    movie_list = sorted(list(enumerate(distances)),reverse = True,key=lambda x:x[1])[1:6]\n",
    "    for i in movie_list:\n",
    "        print(df.iloc[i[0]].title)\n",
    "        "
   ]
  },
  {
   "cell_type": "code",
   "execution_count": 50,
   "id": "9b5b4c56",
   "metadata": {},
   "outputs": [
    {
     "name": "stdout",
     "output_type": "stream",
     "text": [
      "The Dark Knight\n",
      "Batman\n",
      "Batman\n",
      "The Dark Knight Rises\n",
      "Batman v Superman: Dawn of Justice\n"
     ]
    }
   ],
   "source": [
    "recommend('Batman Begins')"
   ]
  },
  {
   "cell_type": "code",
   "execution_count": 51,
   "id": "13fee84e",
   "metadata": {},
   "outputs": [],
   "source": [
    "import pickle\n"
   ]
  },
  {
   "cell_type": "code",
   "execution_count": 52,
   "id": "e1865b34",
   "metadata": {},
   "outputs": [],
   "source": [
    "pickle.dump(df.to_dict(),open('movie_dict.pkl','wb'))\n",
    "pickle.dump(similarity,open('similarity.pkl','wb'))"
   ]
  },
  {
   "cell_type": "code",
   "execution_count": null,
   "id": "5c2cc1d8",
   "metadata": {},
   "outputs": [],
   "source": []
  },
  {
   "cell_type": "code",
   "execution_count": null,
   "id": "92d5ea10",
   "metadata": {},
   "outputs": [],
   "source": []
  }
 ],
 "metadata": {
  "kernelspec": {
   "display_name": "Python 3 (ipykernel)",
   "language": "python",
   "name": "python3"
  },
  "language_info": {
   "codemirror_mode": {
    "name": "ipython",
    "version": 3
   },
   "file_extension": ".py",
   "mimetype": "text/x-python",
   "name": "python",
   "nbconvert_exporter": "python",
   "pygments_lexer": "ipython3",
   "version": "3.11.4"
  }
 },
 "nbformat": 4,
 "nbformat_minor": 5
}
